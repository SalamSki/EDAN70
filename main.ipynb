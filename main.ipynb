{
 "cells": [
  {
   "cell_type": "code",
   "execution_count": null,
   "metadata": {},
   "outputs": [],
   "source": [
    "import regex as re\n",
    "import json\n",
    "datafiles= {\n",
    "  \"E1\" : [''],\n",
    "  \"E2\" : ['a', 'b'],\n",
    "  \"E3\" : [''],\n",
    "  \"E4\" : ['']\n",
    "}\n",
    "datasets = []\n",
    "\n",
    "for i,edition in enumerate(list(datafiles.keys())):\n",
    "  dataset = \"\"\n",
    "  for file in datafiles.get(edition):\n",
    "    with open(f\"./dataset/NF_{edition}{file}.txt\", \"r\", encoding='utf-8') as fr:\n",
    "      dataset += fr.read()\n",
    "      fr.close()\n",
    "  # for trash in re.findall(r\"<h1.*>.*|<h2.*>.*|<h3.*>.*|<a.*>.*|<div.*>.*|<hr>\", dataset):\n",
    "  #   print(trash)\n",
    "  datasets.append(re.sub(r\"\\n{2,}\\s+(?=[a-z])\", \" \", re.sub(r\"&.+;\", \"\", dataset)))"
   ]
  },
  {
   "cell_type": "code",
   "execution_count": null,
   "metadata": {},
   "outputs": [],
   "source": [
    "b_tag_dict = []\n",
    "next_chars = 500\n",
    "d = datasets[0]\n",
    "\n",
    "# BUILD POSITIVE \n",
    "for match in re.finditer(r\"((?<=<b>).+<\\/b>)(.*(?<=<b>).+<\\/b>)*\", d):\n",
    "  g1 = match.group(0)\n",
    "  matched_b_tag = re.sub(r\"</b>.*<b>|</b>\",\" \",g1).strip()\n",
    "  end_of_b_tag = match.end()  \n",
    "  surrounding_text_match = re.search(r\"([^<]{1,\"+str(next_chars)+r\"})(?=<|$)\", d[end_of_b_tag:end_of_b_tag+next_chars])\n",
    "  surrounding_text = surrounding_text_match.group(0) if surrounding_text_match else \"\"\n",
    "\n",
    "  short_def = re.sub(r\"\\s+\", \" \", surrounding_text).strip()\n",
    "  if len(short_def) > 0:\n",
    "    b_tag_dict.append([f\"{matched_b_tag} {short_def}\", matched_b_tag])\n",
    "\n",
    "\n",
    "# BUILD NEGATIVE\n",
    "for match in re.finditer(r\"(\\n\\n[^<]{10,500})(?=\\n|$|<)\", d):\n",
    "  g = match.group(0)\n",
    "  matched_text = re.sub(r\"\\s+\", \" \", g).strip()\n",
    "  b_tag_dict.append([matched_text, \"\"])\n",
    "\n",
    "print(len(b_tag_dict))\n",
    "with open(\"NF_E1_B.json\", \"w\") as b_json:\n",
    "  json.dump(b_tag_dict, b_json, indent=2, ensure_ascii=False)"
   ]
  }
 ],
 "metadata": {
  "kernelspec": {
   "display_name": "base",
   "language": "python",
   "name": "python3"
  },
  "language_info": {
   "codemirror_mode": {
    "name": "ipython",
    "version": 3
   },
   "file_extension": ".py",
   "mimetype": "text/x-python",
   "name": "python",
   "nbconvert_exporter": "python",
   "pygments_lexer": "ipython3",
   "version": "3.12.2"
  }
 },
 "nbformat": 4,
 "nbformat_minor": 2
}
