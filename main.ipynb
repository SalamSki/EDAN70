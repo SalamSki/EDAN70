{
 "cells": [
  {
   "cell_type": "code",
   "execution_count": null,
   "metadata": {},
   "outputs": [],
   "source": [
    "import regex as re\n",
    "datafiles= {\n",
    "  \"E1\" : [''],\n",
    "  \"E2\" : ['a', 'b'],\n",
    "  \"E3\" : [''],\n",
    "  \"E4\" : ['']\n",
    "}\n",
    "datasets = []\n",
    "\n",
    "for i,edition in enumerate(list(datafiles.keys())):\n",
    "  dataset = \"\"\n",
    "  for file in datafiles.get(edition):\n",
    "    with open(f\"./dataset/NF_{edition}{file}.txt\", \"r\", encoding='utf-8') as fr:\n",
    "      dataset += fr.read()\n",
    "      fr.close()\n",
    "  datasets.append(dataset)"
   ]
  },
  {
   "cell_type": "code",
   "execution_count": null,
   "metadata": {},
   "outputs": [],
   "source": [
    "for trash in re.findall(r\"<h1.*>.*|<h2.*>.*|<h3.*>.*|<a.*>.*|<div.*>.*\", datasets[0]):\n",
    "  print(trash)\n",
    "  # for i,d in enumerate(datasets):\n",
    "  #   with open(f\"./dataset/NF_{edition}{file}.txt\", \"w\", encoding='utf-8') as fw:\n",
    "  #     fw.write(d)\n",
    "  #     fw.close()\n",
    "# temp = [re.split(r\"\\s+\", d, flags=re.S) for d in datasets]\n",
    "# print(len(temp[0]))"
   ]
  }
 ],
 "metadata": {
  "kernelspec": {
   "display_name": "base",
   "language": "python",
   "name": "python3"
  },
  "language_info": {
   "codemirror_mode": {
    "name": "ipython",
    "version": 3
   },
   "file_extension": ".py",
   "mimetype": "text/x-python",
   "name": "python",
   "nbconvert_exporter": "python",
   "pygments_lexer": "ipython3",
   "version": "3.12.3"
  }
 },
 "nbformat": 4,
 "nbformat_minor": 2
}
