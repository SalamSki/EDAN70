{
 "cells": [
  {
   "cell_type": "markdown",
   "metadata": {},
   "source": [
    "# Entity Detecting, Matching, and Linking. \n",
    "\n",
    "### Authors: Albin Andersson, Salam Jonasson, Fredrik Wastring. "
   ]
  },
  {
   "cell_type": "markdown",
   "metadata": {},
   "source": [
    "\n",
    "Imports and define names of datafiles"
   ]
  },
  {
   "cell_type": "code",
   "execution_count": 1,
   "metadata": {
    "execution": {
     "iopub.execute_input": "2024-11-16T01:02:45.075847Z",
     "iopub.status.busy": "2024-11-16T01:02:45.075725Z",
     "iopub.status.idle": "2024-11-16T01:03:04.070511Z",
     "shell.execute_reply": "2024-11-16T01:03:04.069918Z"
    }
   },
   "outputs": [
    {
     "name": "stdout",
     "output_type": "stream",
     "text": [
      "WARNING:tensorflow:From c:\\Users\\slome\\repositories\\EDAN70\\edan70env\\Lib\\site-packages\\tf_keras\\src\\losses.py:2976: The name tf.losses.sparse_softmax_cross_entropy is deprecated. Please use tf.compat.v1.losses.sparse_softmax_cross_entropy instead.\n",
      "\n"
     ]
    },
    {
     "data": {
      "text/plain": [
       "device(type='cuda')"
      ]
     },
     "execution_count": 1,
     "metadata": {},
     "output_type": "execute_result"
    }
   ],
   "source": [
    "from sklearn.metrics import classification_report, confusion_matrix, ConfusionMatrixDisplay\n",
    "from matplotlib import pyplot as plt, colors as pltColors\n",
    "from torch.utils.data import DataLoader, TensorDataset\n",
    "from sentence_transformers import SentenceTransformer\n",
    "from sklearn.model_selection import train_test_split\n",
    "from transformers import AutoTokenizer\n",
    "from qdrant_client import QdrantClient\n",
    "import qdrant_client.models as qmodels \n",
    "from dotenv import dotenv_values\n",
    "from collections import Counter\n",
    "from typing import List,Tuple\n",
    "from tqdm import tqdm\n",
    "from torch import nn\n",
    "import pandas as pd\n",
    "import math\n",
    "import numpy as np\n",
    "import regex as re\n",
    "import torch \n",
    "import json\n",
    "datafiles= {\n",
    "  \"E1\" : [''],\n",
    "  \"E2\" : ['a', 'b'],\n",
    "  \"E3\" : [''],\n",
    "  \"E4\" : ['']\n",
    "}\n",
    "device = torch.device(\"cuda\" if torch.cuda.is_available() else \"cpu\")\n",
    "device"
   ]
  },
  {
   "cell_type": "markdown",
   "metadata": {},
   "source": [
    "# Headword Extraction\n",
    "\n",
    "## Dataset Preparation \n",
    "Build the headword training set if ```SHOULD_BUILD_HEADWORD_SET``` is ```True```, toggle off this boolean if you have at least built once:\n",
    "\n",
    "  * Use the first and second editions ([E1](./dataset/clear_text/NF_E1.txt) \\& [E2](./dataset/clear_text/NF_E2a.txt)) where for each entry there is:\n",
    "    - Feature: A paragraph or piece of text that starts with a headword, followed by up to <i>next_chars</i> number of characters, default is 500.\n",
    "    - label: The headword at the beginning of the corresponding feature, empty string if feature wasn't a <i>\"headword\"</i> paragraph.\n",
    "\n",
    "    Save results to [train_set.json](./dataset/headword/train_set.json):\n",
    "    ```json\n",
    "      [\"Lund, uppstad i Malmöhus län...beskaffenhet. I all\", \"Lund\"]\n",
    "      [\"Sammanfattningen af dessa nya ... kan man anse Brandes, hvilken\", \"\"]\n",
    "    ```\n",
    "\n",
    "We also load in the manually annotated test set  from the json file [test_set.json](./dataset/headword/test_set.json)."
   ]
  },
  {
   "cell_type": "code",
   "execution_count": 2,
   "metadata": {
    "execution": {
     "iopub.execute_input": "2024-11-16T01:03:04.077819Z",
     "iopub.status.busy": "2024-11-16T01:03:04.077689Z",
     "iopub.status.idle": "2024-11-16T01:03:04.079708Z",
     "shell.execute_reply": "2024-11-16T01:03:04.079366Z"
    }
   },
   "outputs": [],
   "source": [
    "def build_json_headword_set():\n",
    "  def extract_b_tags(datastring, next_chars = 500, verbose=False):\n",
    "    b_tag_dict = []\n",
    "\n",
    "    # BUILD POSITIVE \n",
    "    for match in tqdm(re.finditer(r\"((?<=<b>).+<\\/b>)(.*(?<=<b>).+<\\/b>)*\", datastring), disable=(not verbose), desc=\"Positives\"):\n",
    "      g1 = match.group(0)\n",
    "      matched_b_tag = re.sub(r\"</b>.*<b>|</b>\",\" \",g1).strip()\n",
    "      end_of_b_tag = match.end()  \n",
    "      \n",
    "      surrounding_text_match = re.search(r\"([^<]{1,\"+str(next_chars)+r\"})(?=<|$)\", datastring[end_of_b_tag:end_of_b_tag+next_chars])\n",
    "      surrounding_text = surrounding_text_match.group(0) if surrounding_text_match else \"\"\n",
    "\n",
    "      short_def = re.sub(r\"\\s+\", \" \", surrounding_text).strip()\n",
    "      if len(short_def) > 0:\n",
    "        b_tag_dict.append((f\"{matched_b_tag} {short_def}\", re.sub(r\"[,.]+$\", \"\", matched_b_tag)))\n",
    "\n",
    "    # BUILD NEGATIVE\n",
    "    for match in tqdm(re.finditer(r\"(\\n\\n\\p{Upper}[^<]{10,500})(?=\\n|$|<)\", datastring), disable=(not verbose), desc=\"Negatives\"):\n",
    "      g = match.group(0)\n",
    "      matched_text = re.sub(r\"\\s+\", \" \", g).strip()\n",
    "      b_tag_dict.append((matched_text, \"\"))\n",
    "\n",
    "    return b_tag_dict\n",
    "\n",
    "  definitions_in_test_set = [entry[0] for entry in head_test_set]\n",
    "  b_tag_dict = set()\n",
    "\n",
    "  for edition in ['E1', 'E2']:\n",
    "    dataset = \"\"\n",
    "    for file in datafiles.get(edition):\n",
    "      with open(f\"./dataset/clear_text/NF_{edition}{file}.txt\", \"r\", encoding='utf-8') as fr:\n",
    "        dataset += fr.read()\n",
    "        fr.close()\n",
    "    \n",
    "    edition_b_tag = extract_b_tags(dataset, verbose=True)\n",
    "    b_tag_dict.update(edition_b_tag)\n",
    "\n",
    "    total_b_tags = len(edition_b_tag)\n",
    "    nbr_headwords = len(list(filter(bool,[e[1] for e in edition_b_tag])))\n",
    "    print(f\"{edition} has {total_b_tags:,} entries, {nbr_headwords:,} positives and {total_b_tags-nbr_headwords:,} negatives\")\n",
    "  \n",
    "  final_train_set = []\n",
    "  for entry in tqdm(b_tag_dict, desc=\"Removing Test_Set entries\"):\n",
    "    if entry[0] not in definitions_in_test_set:\n",
    "      final_train_set.append(entry)\n",
    "  print(f\"Found {len(b_tag_dict)-len(final_train_set)} entries already in Test_Set\\nSaving only {len(final_train_set)} to train_set.json\")\n",
    "\n",
    "  with open(\"./dataset/headword/train_set.json\", \"w\") as b_json:\n",
    "    json.dump(final_train_set, b_json, indent=2, ensure_ascii=False)\n",
    "\n",
    "# Load in manually annotated test set. \n",
    "def load_test_set():\n",
    "  with open(\"./dataset/headword/test_set.json\", \"r\", encoding='utf-8') as annotated_test:\n",
    "    test_set = json.load(annotated_test)\n",
    "    annotated_test.close()\n",
    "  return test_set\n",
    "head_test_set = load_test_set()\n",
    "\n",
    "SHOULD_BUILD_HEADWORD_SET = False\n",
    "if SHOULD_BUILD_HEADWORD_SET:\n",
    "  build_json_headword_set()"
   ]
  },
  {
   "cell_type": "markdown",
   "metadata": {},
   "source": [
    "Tokenize the training and test sets using KB-bert ```AutoTokenizer```. The test set is tokenized everytime, but you can choose to turn off the training set tokenization after running it once by toggling off ``` TOKENIZE_TRAIN_SET ```. \n",
    "\n",
    "The tokenized training set is saved to [tokenized_train_set.pth](./dataset/headword/tokenized_train_set.pth), defined by the path ``` TOKNIZED_TRAIN_SET ```"
   ]
  },
  {
   "cell_type": "code",
   "execution_count": 3,
   "metadata": {
    "execution": {
     "iopub.execute_input": "2024-11-16T01:03:04.526659Z",
     "iopub.status.busy": "2024-11-16T01:03:04.526523Z",
     "iopub.status.idle": "2024-11-16T01:05:47.982547Z",
     "shell.execute_reply": "2024-11-16T01:05:47.981956Z"
    }
   },
   "outputs": [
    {
     "name": "stderr",
     "output_type": "stream",
     "text": [
      "100%|██████████| 5000/5000 [00:03<00:00, 1482.20it/s]\n"
     ]
    },
    {
     "name": "stdout",
     "output_type": "stream",
     "text": [
      "torch.Size([300675, 100]) torch.Size([300675, 100]) torch.Size([5000, 100]) torch.Size([5000, 100])\n"
     ]
    }
   ],
   "source": [
    "tokenizer = AutoTokenizer.from_pretrained(\"KB/bert-base-swedish-cased\")\n",
    "\n",
    "def process_data(sentence, headword):\n",
    "  encoded_sentence = tokenizer(\n",
    "      sentence,\n",
    "      add_special_tokens=True, \n",
    "      padding='max_length',   \n",
    "      max_length=100,        \n",
    "      truncation=True,       \n",
    "      return_tensors='pt'  \n",
    "  )\n",
    "  encoded_headword = tokenizer(\n",
    "      headword,\n",
    "      add_special_tokens=True,\n",
    "      padding='max_length',\n",
    "      max_length=20,           \n",
    "      truncation=True,\n",
    "      return_tensors='pt'\n",
    "  )\n",
    "  return encoded_sentence['input_ids'][0], encoded_headword['input_ids'][0]\n",
    "\n",
    "def extract_features_labels(dataset) -> Tuple[List, List]:\n",
    "  x = []\n",
    "  y = []\n",
    "  for entry in tqdm(dataset):\n",
    "    sentence, headword = process_data(entry[0], entry[1])\n",
    "    x.append(sentence)\n",
    "\n",
    "    min_len = min(len(sentence), len(headword))\n",
    "    headword_mask = np.where((sentence[:min_len] > 4) & (sentence[:min_len] == headword[:min_len]), 1, 0)\n",
    "    headword_mask = np.pad(headword_mask, (0, len(sentence) - min_len), 'constant')\n",
    "    \n",
    "    y.append(torch.tensor(headword_mask))\n",
    "  return torch.stack(x).to(device), torch.stack(y).to(device)\n",
    "\n",
    "def build_headword_dataset(): \n",
    "  with open(\"./dataset/headword/train_set.json\", \"r\", encoding='utf-8') as b_json:\n",
    "    dataset  = json.load(b_json)\n",
    "    b_json.close()\n",
    "  temp_X, temp_y = extract_features_labels(dataset)\n",
    "  torch.save((temp_X,temp_y), TOKNIZED_TRAIN_SET)\n",
    "  return temp_X, temp_y\n",
    "\n",
    "X_test, y_test = extract_features_labels(head_test_set) # <-- Use this to comapre different models. \n",
    "del head_test_set\n",
    "\n",
    "# Either build pytorch dataset out of json, or load in saved pth file.\n",
    "TOKNIZE_TRAIN_SET = False\n",
    "TOKNIZED_TRAIN_SET = './dataset/headword/tokenized_train_set.pth'\n",
    "\n",
    "if TOKNIZE_TRAIN_SET:\n",
    "  X, y = build_headword_dataset()            \n",
    "else:\n",
    "  X, y = torch.load(TOKNIZED_TRAIN_SET, weights_only=True)\n",
    "\n",
    "print(X.shape, y.shape, X_test.shape, y_test.shape)"
   ]
  },
  {
   "cell_type": "markdown",
   "metadata": {},
   "source": [
    "Here is an example sample in our dataset:\n",
    "  - **Input Sentence**  &nbsp;&emsp;&emsp;&emsp;The extracted feature, which is a random paragraph or a definition of an article. \n",
    "  - **Tokenized Sentence** &emsp;The tokenized input up to a 100 tokens, with ``` CLS = 2 ```, ``` SEP = 3 ``` and ``` PAD = 0 ```\n",
    "  - **Target Mask**   &nbsp;&emsp;&emsp;&emsp;&emsp; The expected label mask, ``` 0 ``` for ``` Out_headword ``` and ``` 1 ``` for ``` In_headword ```\n",
    "  - **Target Headword**   &nbsp;&emsp;&emsp;The decoded headword, constructed by applying the output mask on the tokenized input.   "
   ]
  },
  {
   "cell_type": "code",
   "execution_count": 4,
   "metadata": {},
   "outputs": [
    {
     "name": "stdout",
     "output_type": "stream",
     "text": [
      "Input Sentence: \n",
      "Pomona. 1. Astron., en af småplaneterna. 2. Rom. myt., hos forntidens romare egentligen fruktträdens gudinna ( namnet härledt af pomum, äpple ). Hon gällde äfven som maka till Vertumnus. I Rom hade hon en särskild präst. Förnämligast dyrkades hon dock på landsbygden. Liksom Vertumnus afbildas P. ofta med trädgårdsknifven och skötet fylldt af\n",
      "\n",
      "Tokenized Sentence: \n",
      "[2, 25576, 3929, 7, 61, 7, 5143, 1066, 7, 19, 59, 4815, 1459, 14642, 183, 7, 93, 7, 2871, 7, 13020, 7, 19, 937, 14362, 18232, 2195, 115, 2559, 34012, 148, 6728, 1452, 177, 4586, 382, 681, 49795, 4815, 1065, 42257, 49801, 19, 35708, 171, 7, 807, 5829, 400, 49808, 170, 67, 5968, 76, 6244, 16583, 1146, 164, 7, 135, 2871, 365, 295, 59, 4850, 8161, 7, 43737, 180, 26119, 35005, 439, 295, 909, 68, 13034, 7, 10141, 6244, 16583, 1146, 164, 4815, 14719, 49796, 133, 7, 1468, 66, 26072, 2061, 775, 170, 36, 5528, 11, 13215, 49795, 4815, 3]\n",
      "\n",
      "Target Mask: \n",
      "[0, 1, 1, 0, 0, 0, 0, 0, 0, 0, 0, 0, 0, 0, 0, 0, 0, 0, 0, 0, 0, 0, 0, 0, 0, 0, 0, 0, 0, 0, 0, 0, 0, 0, 0, 0, 0, 0, 0, 0, 0, 0, 0, 0, 0, 0, 0, 0, 0, 0, 0, 0, 0, 0, 0, 0, 0, 0, 0, 0, 0, 0, 0, 0, 0, 0, 0, 0, 0, 0, 0, 0, 0, 0, 0, 0, 0, 0, 0, 0, 0, 0, 0, 0, 0, 0, 0, 0, 0, 0, 0, 0, 0, 0, 0, 0, 0, 0, 0, 0]\n",
      "\n",
      "Target Headword: \n",
      "Pomona\n"
     ]
    }
   ],
   "source": [
    "example_index = 0\n",
    "input = X[example_index]\n",
    "mask = y[example_index]\n",
    "headword = X[example_index][torch.flatten(torch.nonzero(y[example_index]))]\n",
    "print(f\"Input Sentence: \\n{tokenizer.decode(input, skip_special_tokens=True)}\\n\")\n",
    "print(f\"Tokenized Sentence: \\n{input.tolist()}\\n\")\n",
    "print(f\"Target Mask: \\n{mask.tolist()}\\n\")\n",
    "print(f\"Target Headword: \\n{tokenizer.decode(headword, skip_special_tokens=True)}\")"
   ]
  },
  {
   "cell_type": "markdown",
   "metadata": {},
   "source": [
    "Split the training set into training and validation:"
   ]
  },
  {
   "cell_type": "code",
   "execution_count": 5,
   "metadata": {
    "execution": {
     "iopub.execute_input": "2024-11-16T01:05:47.986360Z",
     "iopub.status.busy": "2024-11-16T01:05:47.986218Z",
     "iopub.status.idle": "2024-11-16T01:05:48.146526Z",
     "shell.execute_reply": "2024-11-16T01:05:48.145965Z"
    }
   },
   "outputs": [
    {
     "name": "stdout",
     "output_type": "stream",
     "text": [
      "Vocab size: 50325\n"
     ]
    }
   ],
   "source": [
    "X_train, X_val, y_train, y_val = train_test_split(X, y, test_size=0.20) # <-- Use to train our model or fine-tune a model.\n",
    "print(\"Vocab size:\", tokenizer.vocab_size)"
   ]
  },
  {
   "cell_type": "markdown",
   "metadata": {},
   "source": [
    "## Define and train model\n",
    "``` HeadwordExtractor ``` class containing the ``` EncoderLSTM ``` model."
   ]
  },
  {
   "cell_type": "code",
   "execution_count": 6,
   "metadata": {
    "execution": {
     "iopub.execute_input": "2024-11-16T01:05:53.055633Z",
     "iopub.status.busy": "2024-11-16T01:05:53.055402Z",
     "iopub.status.idle": "2024-11-16T01:05:53.058296Z",
     "shell.execute_reply": "2024-11-16T01:05:53.057940Z"
    }
   },
   "outputs": [],
   "source": [
    "class HeadwordExtractor():\n",
    "  def __init__(self, saved_model):\n",
    "    self.embedding_dim = 128\n",
    "    self.hidden_dim = 128\n",
    "    self.batch_size = 32\n",
    "    self.num_epochs = 3\n",
    "    self.learning_rate = 0.001\n",
    "    self.saved_model = saved_model\n",
    "    \n",
    "    self.train_loader = DataLoader(TensorDataset(X_train.long(), y_train.long()), batch_size=self.batch_size, shuffle=True)\n",
    "    self.val_loader = DataLoader(TensorDataset(X_val.long(), y_val.long()), batch_size=self.batch_size, shuffle=False)\n",
    "\n",
    "    self.model = self.EncoderLSTM(tokenizer.vocab_size, self.embedding_dim, self.hidden_dim, nbr_classes=2, num_layers=1,bidi_lstm=True).to(device)\n",
    "\n",
    "    self.optimizer = torch.optim.Adam(self.model.parameters(), lr=self.learning_rate)\n",
    "    self.criterion = nn.CrossEntropyLoss()\n",
    "    print(self.model)\n",
    "\n",
    "  class EncoderLSTM(nn.Module):\n",
    "    def __init__(self, vocab_size, embedding_dim, hidden_dim, nbr_classes, num_layers=1, bidi_lstm=False):\n",
    "        super().__init__()\n",
    "        self.embeddings = nn.Embedding(vocab_size, embedding_dim, padding_idx=tokenizer.pad_token_id)\n",
    "        self.encoder = nn.LSTM(embedding_dim, hidden_dim, num_layers=num_layers, batch_first=True, bidirectional=bidi_lstm, dropout=(0.5 if num_layers > 1 else 0))\n",
    "        self.drop = nn.Dropout(0.5)\n",
    "        if not bidi_lstm:\n",
    "            self.fc = nn.Linear(hidden_dim, nbr_classes)\n",
    "        else:\n",
    "            self.fc = nn.Linear(2*hidden_dim, nbr_classes)\n",
    "\n",
    "    def forward(self, sentence):\n",
    "        embeds = self.embeddings(sentence)\n",
    "        encoder_out, _ = self.encoder(embeds)\n",
    "        encoder_out = nn.functional.relu(encoder_out)\n",
    "        drop_out = self.drop(encoder_out)\n",
    "        logits = self.fc(drop_out)\n",
    "        return logits\n",
    "\n",
    "  def train_extractor(self):\n",
    "    history=[]\n",
    "    for epoch in range(self.num_epochs):\n",
    "        print(f\"Epoch {epoch+1}/{self.num_epochs}:\")\n",
    "      \n",
    "        self.model.train()\n",
    "        train_loss = 0\n",
    "        train_accuracy = 0\n",
    "        temp = 0\n",
    "        for input_batch, target_batch in tqdm(self.train_loader, desc = \"Training\"):\n",
    "            outputs = self.model(input_batch)\n",
    "\n",
    "            loss = self.criterion(outputs.view(-1,outputs.shape[-1]), target_batch.view(-1))\n",
    "            self.optimizer.zero_grad()\n",
    "            loss.backward()\n",
    "            self.optimizer.step()\n",
    "\n",
    "            train_loss += loss.item()\n",
    "            train_accuracy += (torch.sum(outputs.view(-1,outputs.shape[-1]).argmax(dim=1) == target_batch.view(-1))/target_batch.view(-1).shape[0]).item()\n",
    "        avg_train_loss = train_loss / len(self.train_loader)\n",
    "        avg_train_acc = train_accuracy / len(self.train_loader)\n",
    "        print(f\"Train Loss: {avg_train_loss:.4f}, Train Accuracy: {avg_train_acc:.4f}\")\n",
    "\n",
    "        self.model.eval()\n",
    "        with torch.no_grad():\n",
    "            val_loss = 0\n",
    "            val_accuracy = 0\n",
    "            for input_batch, target_batch in tqdm(self.val_loader, desc = \"Validation\"):\n",
    "              outputs = self.model(input_batch)\n",
    "\n",
    "              loss = self.criterion(outputs.view(-1,outputs.shape[-1]), target_batch.view(-1))\n",
    "              val_loss += loss.item()\n",
    "              val_accuracy += (torch.sum(outputs.view(-1,outputs.shape[-1]).argmax(dim=1) == target_batch.view(-1))/target_batch.view(-1).shape[0]).item()\n",
    "        avg_val_loss = val_loss/len(self.val_loader)\n",
    "        avg_val_acc = val_accuracy / len(self.val_loader)\n",
    "        print(f\"Validation Loss: {avg_val_loss:.4f}, Validation Accuracy: {avg_val_acc:.4f}\\n\")\n",
    "\n",
    "        history.append((avg_train_loss, avg_train_acc, avg_val_loss, avg_val_acc))\n",
    "    self.__plot_metrics(history)\n",
    "\n",
    "  def __plot_metrics(self, history):\n",
    "    train_loss, train_acc, val_loss, val_acc = tuple(zip(*history))\n",
    "    epochs = range(1, len(history) + 1)\n",
    "\n",
    "    plt.figure(figsize=(12, 6))\n",
    "    plt.subplot(1,2,1)\n",
    "    plt.plot(epochs, train_acc, marker='o', linestyle='-', label='Train Accuracy')\n",
    "    plt.plot(epochs, val_acc, marker='o', linestyle='-', label='Validation Accuracy')\n",
    "    plt.title('Validation vs Train Accuracy')\n",
    "    plt.legend()\n",
    "\n",
    "    plt.subplot(1,2,2)\n",
    "    plt.plot(epochs, train_loss, marker='o', linestyle='-', label='Train Loss')\n",
    "    plt.plot(epochs, val_loss, marker='o', linestyle='-', label='Validation Loss')\n",
    "    plt.title('Validation vs Train Loss')\n",
    "    plt.legend()\n",
    "    plt.show()\n",
    "\n",
    "  def predict(self, encoded_input):\n",
    "    self.model.eval()\n",
    "    with torch.no_grad():\n",
    "      output_mask = self.model(encoded_input).argmax(dim=-1).cpu()\n",
    "      \n",
    "    for entry_index, token_index in enumerate(output_mask.argmax(1)):\n",
    "      while_index = token_index\n",
    "      while output_mask[entry_index, while_index] == 1 and while_index > 0 and tokenizer.decode(encoded_input[entry_index, while_index]).startswith(\"##\"):\n",
    "        output_mask[entry_index, while_index-1] = 1\n",
    "        while_index-=1\n",
    "\n",
    "    return output_mask\n",
    "  \n",
    "  def load_model(self):\n",
    "    self.model.load_state_dict(torch.load(self.saved_model, map_location=device, weights_only=True))\n",
    "    self.model.to(device)\n",
    "    self.model.eval()\n",
    "  \n",
    "  def save_model(self):\n",
    "     torch.save(self.model.state_dict(), self.saved_model)"
   ]
  },
  {
   "cell_type": "markdown",
   "metadata": {},
   "source": [
    "Train and save model into [headword_extractor.pth](./models/headword/headword_extractor.pth) , or load model from saved file with path ``` SAVED_MODEL ```. \n",
    "\n",
    "Toggle boolean ``` TRAIN_NEW_MODEL ``` to switch between methods."
   ]
  },
  {
   "cell_type": "code",
   "execution_count": 7,
   "metadata": {},
   "outputs": [
    {
     "name": "stdout",
     "output_type": "stream",
     "text": [
      "EncoderLSTM(\n",
      "  (embeddings): Embedding(50325, 128, padding_idx=0)\n",
      "  (encoder): LSTM(128, 128, batch_first=True, bidirectional=True)\n",
      "  (drop): Dropout(p=0.5, inplace=False)\n",
      "  (fc): Linear(in_features=256, out_features=2, bias=True)\n",
      ")\n"
     ]
    }
   ],
   "source": [
    "SAVED_MODEL = \"./models/headword/headword_extractor.pth\"\n",
    "\n",
    "extractor = HeadwordExtractor(saved_model=SAVED_MODEL)\n",
    "\n",
    "TRAIN_NEW_MODEL = False\n",
    "if TRAIN_NEW_MODEL:\n",
    "  extractor.train_extractor()\n",
    "  extractor.save_model()\n",
    "else:\n",
    "  extractor.load_model()"
   ]
  },
  {
   "cell_type": "markdown",
   "metadata": {},
   "source": [
    "## Evaluate **HeadwordExtractor**\n",
    "Split between ``` headword ``` samples and ``` none_headowrd ``` samples in the test set. "
   ]
  },
  {
   "cell_type": "code",
   "execution_count": 8,
   "metadata": {},
   "outputs": [
    {
     "data": {
      "text/plain": [
       "(4354, 646)"
      ]
     },
     "execution_count": 8,
     "metadata": {},
     "output_type": "execute_result"
    }
   ],
   "source": [
    "test_positives = (y_test.sum(dim=1) > 0).sum().item()\n",
    "test_negatives = (y_test.sum(dim=1) == 0).sum().item()\n",
    "test_positives,test_negatives"
   ]
  },
  {
   "cell_type": "markdown",
   "metadata": {},
   "source": [
    "Predict test set and produce, ``` accuracy_score ```, ``` classification_report ``` and ``` confusion_matrix ``` from **Scikit-learn**."
   ]
  },
  {
   "cell_type": "code",
   "execution_count": 9,
   "metadata": {},
   "outputs": [
    {
     "name": "stdout",
     "output_type": "stream",
     "text": [
      "Classification Report: \n",
      "              precision    recall  f1-score   support\n",
      "\n",
      "           0     0.9981    0.9995    0.9988    486447\n",
      "           1     0.9817    0.9332    0.9568     13553\n",
      "\n",
      "    accuracy                         0.9977    500000\n",
      "   macro avg     0.9899    0.9664    0.9778    500000\n",
      "weighted avg     0.9977    0.9977    0.9977    500000\n",
      "\n",
      "Confusion Matrix:\n"
     ]
    },
    {
     "data": {
      "image/png": "[encoded data removed]",
      "text/plain": [
       "<Figure size 640x480 with 2 Axes>"
      ]
     },
     "metadata": {},
     "output_type": "display_data"
    }
   ],
   "source": [
    "y_test_predictions = extractor.predict(X_test)\n",
    "flattend_y_test_predictions = y_test_predictions.view(-1)\n",
    "flattend_y_test = y_test.view(-1).cpu()\n",
    "\n",
    "print(f\"Classification Report: \\n{classification_report(flattend_y_test, flattend_y_test_predictions, digits=4)}\")\n",
    "cm = confusion_matrix(flattend_y_test, flattend_y_test_predictions, normalize='pred')\n",
    "cmd = ConfusionMatrixDisplay(cm, display_labels=[0,1])\n",
    "cmd.plot()\n",
    "print(\"Confusion Matrix:\")"
   ]
  },
  {
   "cell_type": "markdown",
   "metadata": {},
   "source": [
    "Test model in inference mode, change ``` input_sentence ``` to a *definition-like* piece of text."
   ]
  },
  {
   "cell_type": "code",
   "execution_count": 10,
   "metadata": {
    "execution": {
     "iopub.execute_input": "2024-11-16T04:02:51.484972Z",
     "iopub.status.busy": "2024-11-16T04:02:51.484820Z",
     "iopub.status.idle": "2024-11-16T04:02:51.586294Z",
     "shell.execute_reply": "2024-11-16T04:02:51.585934Z"
    }
   },
   "outputs": [
    {
     "name": "stdout",
     "output_type": "stream",
     "text": [
      "Predicted headword: Gustav Vasa\n"
     ]
    }
   ],
   "source": [
    "input_sentence = \"Gustav Vasa, ursprungligen Gustav Eriksson,[2] enligt flera källor född 12 maj 1496, död 29 september 1560 på Tre Kronor i Stockholm.[3] var kung av Sverige 1523–1560 och riksföreståndare 1521–1523, under det pågående befrielsekriget. Hans makttillträde, inlett som ett uppror mot unionskungen Kristian II efter Stockholms blodbad, innebar slutet för Kalmarunionen. Gustav tillhörde Vasaätten, som genom\"\n",
    "encoded_input = tokenizer(input_sentence, return_tensors=\"pt\", padding = \"max_length\", max_length = 100, truncation = True)['input_ids'].to(device)\n",
    "\n",
    "output_mask = extractor.predict(encoded_input).view(-1)\n",
    "headword = encoded_input.cpu().view(-1)[torch.flatten(torch.nonzero(output_mask))]\n",
    "decoded_headword = tokenizer.decode(headword, skip_special_tokens=True)\n",
    "print(\"Predicted headword:\", decoded_headword)"
   ]
  },
  {
   "cell_type": "markdown",
   "metadata": {},
   "source": [
    "## Extract Headwords from editions\n",
    "\n",
    "Tokenize all the editions using their txt formats and save them into a single file [tokenized_editions.pth](./dataset/clear_text/tokenized_editions.pth).\n",
    "\n",
    "You can load in the tokenized file by toggling off the ``` SHOULD_TOKENIZE_EDITIONS ``` if you have tokenized at least once."
   ]
  },
  {
   "cell_type": "code",
   "execution_count": 11,
   "metadata": {},
   "outputs": [],
   "source": [
    "def tokenize_editions():\n",
    "  tokenized_editions = []\n",
    "  for edition in datafiles.keys():\n",
    "    edition_data = \"\"\n",
    "    for file in datafiles.get(edition):\n",
    "      with open(f\"./dataset/clear_text/NF_{edition}{file}.txt\", \"r\", encoding='utf-8') as fr:\n",
    "        edition_data += fr.read()\n",
    "        fr.close()\n",
    "    edition_data = re.sub(r\"<b>|</b>\", \"\", edition_data)\n",
    "\n",
    "    splitted_paragraphs = re.split(r\"\\n\\n\", edition_data)\n",
    "    filterd_paragraphs = filter(lambda p: len(p) >= 10, splitted_paragraphs)\n",
    "    truncated_paragraphs = list(map(lambda p: p[:500] if len(p) > 500 else p, filterd_paragraphs))\n",
    "    \n",
    "    paragraphs = torch.stack(\n",
    "      [tokenizer(\n",
    "          p,\n",
    "          add_special_tokens=True, \n",
    "          padding='max_length',   \n",
    "          max_length=100,        \n",
    "          truncation=True,       \n",
    "          return_tensors='pt'  \n",
    "        )['input_ids'][0] \n",
    "        for p in tqdm(truncated_paragraphs)\n",
    "      ]).to(device) \n",
    "    tokenized_editions.append(paragraphs)\n",
    "  torch.save(tokenized_editions, './dataset/clear_text/tokenized_editions.pth')\n",
    "  return tokenized_editions\n",
    "\n",
    "SHOULD_TOKENIZE_EDITIONS = False\n",
    "if SHOULD_TOKENIZE_EDITIONS:\n",
    "   editions = tokenize_editions()\n",
    "\n",
    "else:\n",
    "  editions = torch.load('./dataset/clear_text/tokenized_editions.pth', weights_only=True)"
   ]
  },
  {
   "cell_type": "markdown",
   "metadata": {},
   "source": [
    "Use the model *``` extractor ```* defined above, to predict and decode all the toknized editions. Discarding any entries predicted as a ``` none_headword ``` and saving the headword entires into [extracted_entries.json](./dataset/extracted_entries.json).\n",
    "\n",
    "This task can take quite a long time, therefore you can yet again toggle off ``` PREDICT_EDITIONS ``` to only load in the extracted entries from the saved json file with the path ``` PREDICTED_EDITIONS ```.\n",
    "\n",
    "The output given is the number of headwords per edition followed by the total sum:\n",
    "\n",
    "``` [nbr_headwords_E1, nbr_headwords_E2, nbr_headwords_E3, nbr_headwords_E4, total_headwords] ```"
   ]
  },
  {
   "cell_type": "code",
   "execution_count": 12,
   "metadata": {},
   "outputs": [
    {
     "data": {
      "text/plain": [
       "[117473, 185063, 26464, 89221, 418221]"
      ]
     },
     "execution_count": 12,
     "metadata": {},
     "output_type": "execute_result"
    }
   ],
   "source": [
    "def predict_editions():\n",
    "  db = {}\n",
    "  for ei, edition in enumerate(editions):\n",
    "    # Predict editions by batches:\n",
    "    edition_loader = DataLoader(edition, batch_size=19000, shuffle=False)\n",
    "    edition_predictions = torch.empty((0,100)).to(device)\n",
    "    for batch in tqdm(edition_loader, desc=f\"Predicting Edtion E{ei+1}\"):\n",
    "      batch_prediction = extractor.predict(batch).to(device)\n",
    "      edition_predictions = torch.cat((edition_predictions, batch_prediction))\n",
    "\n",
    "    # Filter away non-headword predictions:\n",
    "    predicted_input = edition[torch.unique(torch.nonzero(edition_predictions)[:, 0])]\n",
    "    predicted_masks = edition_predictions[torch.unique(torch.nonzero(edition_predictions)[:, 0])]\n",
    "    predicted_entries = []\n",
    "    entry_cnt = 0\n",
    "    for input, mask in tqdm(list(zip(predicted_input,predicted_masks)), desc=f\"Decoding   Edtion E{ei+1}\"):\n",
    "      decoded_headword = tokenizer.decode(input[mask.nonzero().flatten()], skip_special_tokens=True)\n",
    "      decoded_headword = re.sub(r\",\", \"\", decoded_headword)\n",
    "      if decoded_headword != \"\":\n",
    "        decoded_input = tokenizer.decode(input, skip_special_tokens=True)\n",
    "\n",
    "        if not re.search(r\"^Bild [\\diI]+\", decoded_input):\n",
    "          entry_cnt+=1\n",
    "          predicted_entries.append({\"entry_id\": f\"E{ei+1}_{entry_cnt}\", \"headword\": decoded_headword, \"definition\": decoded_input})\n",
    "          \n",
    "    db[f\"E{ei+1}\"] = predicted_entries\n",
    "\n",
    "  with open(PREDICTED_EDITIONS, \"w\") as entry_json:\n",
    "    json.dump(db, entry_json, indent=2, ensure_ascii=False)\n",
    "    entry_json.close()\n",
    "\n",
    "def load_in_db():\n",
    "  with open(PREDICTED_EDITIONS, \"r\", encoding='utf-8') as entry_json_r:\n",
    "    db = json.load(entry_json_r)\n",
    "    entry_json_r.close()\n",
    "  return db\n",
    "\n",
    "PREDICT_EDITIONS = False\n",
    "PREDICTED_EDITIONS = \"./dataset/extracted_entries.json\"\n",
    "if PREDICT_EDITIONS:\n",
    "  predict_editions()\n",
    "\n",
    "db = load_in_db()\n",
    "db_lengths = [len(db[edition]) for edition in db]\n",
    "db_lengths + [sum(db_lengths)]"
   ]
  },
  {
   "cell_type": "markdown",
   "metadata": {},
   "source": [
    "# Entity Type Classification\n",
    "\n",
    "## Prediction Results\n",
    "\n",
    "Here we load in the results of applying our best preforming fine-tuned model on all four editions.\\\n",
    "The possible types are annotated as follows: \n",
    "  - 0 → Other\n",
    "  - 1 → Location\n",
    "  - 2 → Person\n",
    "  \n",
    "The file structure in [predicted_ner_entries.json](./dataset/predicted_ner_entries.json) is almost the same as [extracted_entries.json](./dataset/extracted_entries.json) but with the added key ``` \"type\" ```:\n",
    "```json\n",
    "    {\n",
    "      \"entry_id\": \"E1_38072\",\n",
    "      \"headword\": \"Kind\",\n",
    "      \"definition\": \"Kind [ kint ], Karl Gotthelf, tysk tekniker...\",\n",
    "      \"type\": 2\n",
    "    }\n",
    "```\n",
    "\n",
    "\n",
    "We use the results to count the occurrence of each type for every edition and plot a stacked bar to visualize the distribution across editions. "
   ]
  },
  {
   "cell_type": "code",
   "execution_count": 13,
   "metadata": {},
   "outputs": [
    {
     "data": {
      "image/png": "[encoded data removed]",
      "text/plain": [
       "<Figure size 640x480 with 1 Axes>"
      ]
     },
     "metadata": {},
     "output_type": "display_data"
    }
   ],
   "source": [
    "with open(\"./dataset/predicted_ner_entries.json\", \"r\", encoding='utf-8') as ner_in:\n",
    "  ner_db = json.load(ner_in)\n",
    "  ner_in.close()\n",
    "\n",
    "def plot_stacked_bar_NER(db):\n",
    "  stacked_bars = pd.DataFrame([],columns=['Editions', 'Other', 'Location', 'Person'])\n",
    "  for i,e in enumerate(datafiles.keys()):\n",
    "    e_types = [entry['type'] for entry in db[e]]\n",
    "    e_types_counter = Counter(e_types)\n",
    "    max_len = len(e_types)\n",
    "    stacked_bars.loc[i] = [e] + (np.array([e_types_counter[0], e_types_counter[1], e_types_counter[2]])/max_len*100).tolist()\n",
    "\n",
    "  ax = stacked_bars.plot(x='Editions', stacked=True, kind='bar', rot=0)\n",
    "  for i,container in enumerate(ax.containers):\n",
    "    ax.bar_label(container, label_type='center', fmt=lambda x: f\"{x:.0f}%\")\n",
    "plot_stacked_bar_NER(ner_db)"
   ]
  },
  {
   "cell_type": "markdown",
   "metadata": {},
   "source": [
    "# Cross-edition Matching\n",
    "\n",
    "To match entires accross all editions, we follow these three steps:\n",
    "  1. Embed all definitions with KBLab's swedish-cased sentence BERT. \n",
    "  2. Upload the embeddings to [Qdrant](https://qdrant.tech/) through creating and population a collection.\n",
    "  3. Match each edition's entries with the entries of all other editions by querying [Qdrant](https://qdrant.tech/) in batches.\n",
    "\n",
    "## Sentence Embeddings\n",
    "\n",
    "We map each edition to the list of non-other definitions (person \\& location) and feed them to KBLab's S-BERT.\\\n",
    "We also save the embeddings to a file at the path ``` EMBEDDED_ENTRIES ``` so that we can toggle the embedding with ``` SHOULD_EMBED_ENTRIES ```. Using this, we only have to embed the defintions one time to create the <i>.pth</i> file, otherwise we load them in. \n",
    "\n",
    "The resulting output is the count of non-other entires in each edition + total sum. "
   ]
  },
  {
   "cell_type": "code",
   "execution_count": 14,
   "metadata": {},
   "outputs": [
    {
     "data": {
      "text/plain": [
       "[55314, 77225, 11977, 35010, 179526]"
      ]
     },
     "execution_count": 14,
     "metadata": {},
     "output_type": "execute_result"
    }
   ],
   "source": [
    "sentece_model = SentenceTransformer('KBLab/sentence-bert-swedish-cased').to(device)\n",
    "\n",
    "def embed_entires():\n",
    "  embeds = []\n",
    "  for e in ner_db.keys():\n",
    "    e_entries = np.array(ner_db[e])\n",
    "    types = np.array(list(map(lambda e: e['type'], e_entries)))\n",
    "    non_other = e_entries[types != 0]\n",
    "\n",
    "    ids = list(map(lambda e: e['entry_id'], non_other))\n",
    "    heads = list(map(lambda e: e['headword'], non_other))\n",
    "\n",
    "    e_embeds = sentece_model.encode(list(map(lambda e: e['definition'], non_other)))\n",
    "    embeds.append(list(zip(torch.from_numpy(e_embeds), ids, heads)))\n",
    "\n",
    "  torch.save(embeds, EMBEDDED_ENTRIES)\n",
    "  return embeds\n",
    "\n",
    "SHOULD_EMBED_ENTRIES = False\n",
    "EMBEDDED_ENTRIES = './dataset/embedded_entries.pth'\n",
    "if SHOULD_EMBED_ENTRIES:\n",
    "  embeds = embed_entires()\n",
    "else:\n",
    "  embeds = torch.load(EMBEDDED_ENTRIES, weights_only=True)\n",
    "  \n",
    "editions_len = [len(edition) for edition in embeds]\n",
    "editions_len + [sum(editions_len)]"
   ]
  },
  {
   "cell_type": "markdown",
   "metadata": {},
   "source": [
    "## Upload to Qdrant\n",
    "\n",
    "We load in our environment values for our [Qdrant](https://qdrant.tech/) API from an ``` .env ``` file and create the python wrapper ``` QdrantClient ```.\\\n",
    "You can change the Collection name, host and API key according to the [Qdrant](https://qdrant.tech/) service you use. \n",
    "\n",
    "We then create a collection with the given name and populate it with the embeddings by batches of ``` point_batch_size ```."
   ]
  },
  {
   "cell_type": "code",
   "execution_count": 15,
   "metadata": {},
   "outputs": [],
   "source": [
    "config = dotenv_values(\".env\")\n",
    "collection_name = config['QDRANT_COLLECTION_NAME']\n",
    "qdrant_host = config['QDRANT_HOST']\n",
    "qdrant_api_key = config['QDRANT_API_KEY']\n",
    "qdrant_client = QdrantClient(url=qdrant_host, api_key=qdrant_api_key, timeout=60)\n",
    "\n",
    "def create_and_populate_qdrant_collection(point_batch_size = 2050):\n",
    "    # Create new collection if we have embeds\n",
    "    if len(embeds) > 0 and len(embeds[0]) > 0:\n",
    "\n",
    "        # Delete Collection IF exists\n",
    "        if qdrant_client.collection_exists(collection_name):\n",
    "            qdrant_client.delete_collection(collection_name)\n",
    "\n",
    "        # Here, embeds takes a lot of indecies, first [0] for the first edition, second [0] for first entry in the first edition. Last [0] is for the numpy embedding vector of the first entry in the first edition....\n",
    "        numpy_embedding_first_entry_in_first_edition = embeds[0][0][0]\n",
    "        qdrant_client.create_collection(\n",
    "            collection_name=collection_name,\n",
    "            vectors_config=qmodels.VectorParams(\n",
    "                size=numpy_embedding_first_entry_in_first_edition.shape[0], \n",
    "                distance=qmodels.Distance.COSINE, \n",
    "            ),\n",
    "            quantization_config=qmodels.ScalarQuantization(\n",
    "                scalar=qmodels.ScalarQuantizationConfig(\n",
    "                    type=qmodels.ScalarType.INT8,\n",
    "                    always_ram=True,\n",
    "                ),\n",
    "            ),\n",
    "            optimizers_config=qmodels.OptimizersConfigDiff(default_segment_number=4)\n",
    "        )\n",
    "\n",
    "    # Populate the collection batch_size entires at a time.\n",
    "    for e_i in range(len(embeds)):\n",
    "        points = [qmodels.PointStruct(\n",
    "                    id=int(re.sub(r\"[E_]\", \"\", entry_id)),\n",
    "                    vector=entry_embedding.tolist(),\n",
    "                    payload={\"entry_id\": entry_id, \"head\":entry_head, \"edition\": (e_i+1)}\n",
    "                )\n",
    "                for entry_embedding, entry_id, entry_head in tqdm(embeds[e_i], desc=f\"Converting E{e_i+1} to qdrant points\")]\n",
    "        \n",
    "        nbr_of_point_batches = math.ceil(len(points)/point_batch_size)\n",
    "\n",
    "        tqdm_out = f\"Uploading E{e_i+1} {point_batch_size} entries at a time\"\n",
    "        for point_batch in tqdm(list(range(nbr_of_point_batches)), desc=tqdm_out):\n",
    "            qdrant_client.upsert(\n",
    "                collection_name=collection_name,\n",
    "                points=points[point_batch*point_batch_size:(point_batch+1)*point_batch_size]\n",
    "            )\n",
    "    \n",
    "REBUILD_QDRANT_COLLECTION = False\n",
    "if REBUILD_QDRANT_COLLECTION:\n",
    "    create_and_populate_qdrant_collection()"
   ]
  },
  {
   "cell_type": "markdown",
   "metadata": {},
   "source": [
    "## Query Each Edition\n",
    "\n",
    "Now we can link all editions with each other by querying one edition at a time.\\\n",
    "When querying each edition, we match up it's entries with similar entires in other editions. For each entry, it is said to match up with another entry if:\n",
    "  - The other entry belongs to a different <b>edition</b>.\n",
    "  - The headword of both entires is the <b>same</b>.\n",
    "  - The definitions of both entires have a cosine similarity of $\\geq$ 0.85, this threshold is adjustable by chaning the ``` cosine_threshold ``` argument. \n",
    "\n",
    "We link the editions with those criteria by querying [Qdrant](https://qdrant.tech/) with a batch size of ``` batch_size ```.\\\n",
    "When a match is found the ID of the matched entry is saved into the current entry we're matching: \n",
    "```json\n",
    "{\n",
    "  \"entry_id\": \"E1_X\",\n",
    "  ...\n",
    "  \"E2_match\": \"E2_X\"\n",
    "}\n",
    "```\n",
    "The results are saved into a new file, [linked_entries.json](./dataset/linked_entries.json) so that we can load it in instead at a later time. "
   ]
  },
  {
   "cell_type": "code",
   "execution_count": 16,
   "metadata": {},
   "outputs": [],
   "source": [
    "def link_entities(batch_size=2050, cosine_threshold=0.85):\n",
    "  import copy\n",
    "  print(\"COPY NER_DB...\")\n",
    "  editions_json = copy.deepcopy(ner_db)\n",
    "\n",
    "  for e_i in range(len(editions_json)):\n",
    "    edition_json = editions_json[f\"E{e_i+1}\"]\n",
    "    edition_json = np.array(edition_json)\n",
    "    types = np.array(list(map(lambda e: e['type'], edition_json)))\n",
    "    non_other_json = edition_json[types != 0]\n",
    "\n",
    "    found=0\n",
    "    b_size = batch_size\n",
    "    nbr_of_zero_batches = 0\n",
    "    nbr_batches = math.ceil(len(edition_json)/b_size)\n",
    "    \n",
    "    for entry_index in tqdm(list(range(nbr_batches)), desc=f\"Linking entries in E{e_i+1} {b_size} at a time\"):\n",
    "      slice_start = entry_index*b_size\n",
    "      slice_end  = (entry_index+1)*b_size\n",
    "      entry_batch = non_other_json[slice_start:slice_end]\n",
    "      search_embeddings = embeds[e_i][slice_start:slice_end]\n",
    "      \n",
    "      query_res = qdrant_client.query_batch_points(\n",
    "        collection_name=collection_name,\n",
    "        requests= [\n",
    "          qmodels.QueryRequest(\n",
    "            query=search_embed.tolist(),\n",
    "            filter=qmodels.Filter(\n",
    "              must_not=[\n",
    "                qmodels.FieldCondition(\n",
    "                  key='edition',\n",
    "                  match=qmodels.MatchValue(value=(e_i+1))\n",
    "                )\n",
    "              ],\n",
    "              must=[\n",
    "                qmodels.FieldCondition(\n",
    "                  key='head',\n",
    "                  match=qmodels.MatchValue(value=search_headword)\n",
    "                )\n",
    "              ]\n",
    "            ),\n",
    "            limit=sum(editions_len),\n",
    "            score_threshold=cosine_threshold,\n",
    "            ) \n",
    "          for search_embed, _, search_headword in search_embeddings],\n",
    "      )\n",
    "      \n",
    "      is_zero_hit = False\n",
    "      for res_index, hits in enumerate(query_res):\n",
    "        if len(hits.points) > 0:\n",
    "          found+=1\n",
    "          is_zero_hit = True\n",
    "          points = np.array(hits.points)\n",
    "          points_ed = np.array(list(map(lambda p: str(p.id)[:1],points)))\n",
    "          matched_editions = np.unique(points_ed)\n",
    "          \n",
    "          def qdrantID_to_JSON_ID(id:int)->str:\n",
    "            id = str(id)\n",
    "            return f\"E{id[:1]}_{id[1:]}\"\n",
    "\n",
    "          for matched_edition in matched_editions:\n",
    "            matches = list(map(lambda p: (p.score, qdrantID_to_JSON_ID(p.id)), points[points_ed==matched_edition]))\n",
    "            best_match = max(matches)\n",
    "            entry_batch[res_index][f\"E{matched_edition}_match\"] = best_match[1]\n",
    "      \n",
    "      if is_zero_hit:\n",
    "        nbr_of_zero_batches+=1\n",
    "\n",
    "    print(f\"E{e_i+1} matched {found} entries, with {nbr_of_zero_batches} zero batches\")\n",
    "\n",
    "  with open('./dataset/linked_entries.json', \"w\") as linked_entries_out:\n",
    "    json.dump(editions_json,linked_entries_out, indent=2, ensure_ascii=False)\n",
    "    linked_entries_out.close()\n",
    "\n",
    "def load_linked_entities():\n",
    "  with open(\"./dataset/linked_entries.json\", \"r\", encoding='utf-8') as linked_entites_in:\n",
    "    linked_db = json.load(linked_entites_in)\n",
    "    linked_entites_in.close()\n",
    "    return linked_db\n",
    "\n",
    "SHOULD_LINK_ENTITIES = False\n",
    "if SHOULD_LINK_ENTITIES:\n",
    "  link_entities()\n",
    "linked_db = load_linked_entities()"
   ]
  },
  {
   "cell_type": "markdown",
   "metadata": {},
   "source": [
    "## Matching Results\n",
    "\n",
    "With the resulting file loaded in, we can extract a normlized heatmap of the editions. Showing what precentege was matched with what other edition from each edition's perspective. We also print out the number of matched entires in each edition. "
   ]
  },
  {
   "cell_type": "code",
   "execution_count": 17,
   "metadata": {},
   "outputs": [
    {
     "data": {
      "image/png": "[encoded data removed]",
      "text/plain": [
       "<Figure size 640x480 with 2 Axes>"
      ]
     },
     "metadata": {},
     "output_type": "display_data"
    },
    {
     "data": {
      "text/plain": [
       "array([34805, 38771,  9373, 20107])"
      ]
     },
     "execution_count": 17,
     "metadata": {},
     "output_type": "execute_result"
    }
   ],
   "source": [
    "def create_matchings_heatmap():\n",
    "  edition_names = list(map(lambda edition: f\"{edition}_match\",linked_db.keys()))\n",
    "  matchings_heat_map = []\n",
    "  nbr_matched_entries = []\n",
    "  nbr_edition_matches = []\n",
    "  for edition in linked_db:\n",
    "    entry_matchings = [[e_n in e for e_n in edition_names] for e in linked_db[edition] if sum([e_n in e for e_n in edition_names]) > 0]\n",
    "    nbr_matched_entries.append(len(entry_matchings))\n",
    "    matchings_heat_map.append(np.sum(entry_matchings, axis=0))\n",
    "    nbr_edition_matches.append(np.sum(entry_matchings))\n",
    "  return np.stack(matchings_heat_map), np.array(nbr_matched_entries), np.array(nbr_edition_matches) \n",
    "\n",
    "def plot_heatmap(arr:np.ndarray, cmap: pltColors.Colormap = plt.cm.autumn, labels=['E4', 'E3', 'E2', 'E1']):\n",
    "  # Plot heatmap\n",
    "  plt.imshow(arr, cmap=cmap, vmin=0, vmax=1, extent=[0, arr.shape[1], 0, arr.shape[0]])\n",
    "\n",
    "  indices = list(zip(*[index_list.tolist() for index_list in np.nonzero(arr==arr)]))\n",
    "  for i,j in indices:\n",
    "    plt.annotate(f\"{arr[i,j]*100:.0f}%\", xy=(j+0.5, arr.shape[0]-1-i+0.5), ha='center', va='center')\n",
    "  plt.colorbar()\n",
    "  y_ticks = plt.yticks()\n",
    "  plt.yticks(ticks=y_ticks[0][(y_ticks[0]-0.5)%1==0], labels=labels)\n",
    "  plt.xticks(ticks=y_ticks[0][(y_ticks[0]-0.5)%1==0], labels=list(reversed(labels)))\n",
    "  plt.ylabel(\"Seached With Perspective\")\n",
    "  plt.xlabel(\"Searched Against Perspective \")\n",
    "  plt.show()\n",
    "\n",
    "matchings_heat_map, nbr_matched_entries, nbr_edition_matches = create_matchings_heatmap()\n",
    "normlized_heatmap = matchings_heat_map/nbr_edition_matches[:,np.newaxis]\n",
    "\n",
    "plot_heatmap(normlized_heatmap)\n",
    "nbr_edition_matches"
   ]
  },
  {
   "cell_type": "markdown",
   "metadata": {},
   "source": [
    "Evaluation on the linking results by manually annotating a 100 linking matches in  [linking_evaluation.json](./dataset/linking_evaluation.json)."
   ]
  },
  {
   "cell_type": "code",
   "execution_count": 18,
   "metadata": {},
   "outputs": [
    {
     "name": "stdout",
     "output_type": "stream",
     "text": [
      "Linking accuracy: 100%\n"
     ]
    }
   ],
   "source": [
    "with open(\"./dataset/linking/linking_evaluation.json\", \"r\", encoding='utf-8') as linked_evaluation_in:\n",
    "  linked_eval = json.load(linked_evaluation_in)\n",
    "  linked_evaluation_in.close()\n",
    "\n",
    "linked_eval_annotations = list(map(lambda e: e['annotation'], linked_eval))\n",
    "linked_eval_acc = sum(linked_eval_annotations)/len(linked_eval_annotations)*100\n",
    "print(f\"Linking accuracy: {linked_eval_acc:.0f}%\")"
   ]
  },
  {
   "cell_type": "code",
   "execution_count": 19,
   "metadata": {},
   "outputs": [],
   "source": [
    "def extact_matchings_cross_editions(edition_names=['E1', 'E2', 'E4']):\n",
    "  matched_edition_names = list(map(lambda x: f\"{x}_match\" , edition_names))\n",
    "\n",
    "  person_matchings = []\n",
    "  location_matchings = []\n",
    "  for edition in edition_names:\n",
    "    edition_persons = []\n",
    "    edition_locations = []\n",
    "\n",
    "    for entry in linked_db[edition]:\n",
    "      entry_type = entry['type']\n",
    "      entry_matchings = [e_n in entry for e_n in matched_edition_names]\n",
    "      \n",
    "      for is_matched, match_key in zip(entry_matchings, matched_edition_names):\n",
    "        if is_matched:\n",
    "          if entry_type == 1:\n",
    "            edition_locations.append((entry['entry_id'], entry[match_key]))\n",
    "          \n",
    "          if entry_type == 2:\n",
    "            edition_persons.append((entry['entry_id'], entry[match_key]))\n",
    "\n",
    "    person_matchings.append(np.array(edition_persons))\n",
    "    location_matchings.append(np.array(edition_locations))\n",
    "  return person_matchings, location_matchings\n",
    "\n",
    "def analyze_entity_dev_accross_editions(matchigns, type:int, percentage_verbose=False):\n",
    "  \n",
    "  def map_np_str(arr:np.ndarray):\n",
    "    return list(map(lambda e: \",\".join(e) ,arr))\n",
    "\n",
    "  def unmap_str_np(arr:List):\n",
    "    return np.array(list(map(lambda e: e.split(\",\"), arr)))\n",
    "\n",
    "  df = pd.DataFrame(columns=['Edition', 'Cross-Edition', 'Left in edition', 'Retained knowledge', 'Introduced in cross-edition'])\n",
    "\n",
    "  total_lengths = [len([1 for entry in linked_db[edition[0][0][:2]] if entry['type'] == type]) for edition in matchigns]\n",
    "\n",
    "  for i in range(0, len(matchigns)):\n",
    "    edition = matchigns[i]\n",
    "    edition_name = edition[0][0][:2]\n",
    "\n",
    "    for j in range(i+1,len(matchigns)):\n",
    "      cross_edition = matchigns[j]\n",
    "      corss_edition_name = cross_edition[0][0][:2]\n",
    "\n",
    "      intersect = unmap_str_np(np.intersect1d(map_np_str(edition), map_np_str(np.flip(cross_edition, axis=1))))\n",
    "      len_intersect = len(intersect)\n",
    "\n",
    "      # # VERY VERY not needed code to extract the number of single way matchings. \n",
    "      # edition_length = [m for m in edition if m[1].startswith(corss_edition_name)]\n",
    "      # cross_edition_length = [m for m in cross_edition if m[1].startswith(edition_name)]\n",
    "\n",
    "      # edition_single_connections = len(edition_length) - len_intersect\n",
    "      # cross_edition_single_connections = len(cross_edition_length) - len_intersect\n",
    "\n",
    "      # edition_total_without_singles = total_lengths[i] - edition_single_connections\n",
    "      # cross_edition_total_without_singles = total_lengths[j] - cross_edition_single_connections\n",
    "      \n",
    "      if percentage_verbose:\n",
    "        removed_prec_edi = round((total_lengths[i]-len_intersect)/total_lengths[i]*100)\n",
    "        retained_prec_edi = round(len_intersect/total_lengths[i]*100)\n",
    "        \n",
    "        retained_prec_cross = round(len_intersect/total_lengths[j]*100)\n",
    "        new_prec_cross = round((total_lengths[j]-len_intersect)/total_lengths[j]*100)\n",
    "        \n",
    "        print(f\"Out {edition_name} {removed_prec_edi}% {retained_prec_edi}%\")\n",
    "        print(f\"In  {corss_edition_name} {retained_prec_cross}% {new_prec_cross}%\\n\")\n",
    "\n",
    "      df.loc[i+j-1] = (edition_name, corss_edition_name, total_lengths[i]-len_intersect, len_intersect, total_lengths[j]-len_intersect)\n",
    "  return df\n",
    "\n",
    "person_matchings, location_matchings = extact_matchings_cross_editions()"
   ]
  },
  {
   "cell_type": "code",
   "execution_count": 20,
   "metadata": {},
   "outputs": [
    {
     "data": {
      "text/html": [
       "<div>\n",
       "<style scoped>\n",
       "    .dataframe tbody tr th:only-of-type {\n",
       "        vertical-align: middle;\n",
       "    }\n",
       "\n",
       "    .dataframe tbody tr th {\n",
       "        vertical-align: top;\n",
       "    }\n",
       "\n",
       "    .dataframe thead th {\n",
       "        text-align: right;\n",
       "    }\n",
       "</style>\n",
       "<table border=\"1\" class=\"dataframe\">\n",
       "  <thead>\n",
       "    <tr style=\"text-align: right;\">\n",
       "      <th></th>\n",
       "      <th>Edition</th>\n",
       "      <th>Cross-Edition</th>\n",
       "      <th>Left in edition</th>\n",
       "      <th>Retained knowledge</th>\n",
       "      <th>Introduced in cross-edition</th>\n",
       "    </tr>\n",
       "  </thead>\n",
       "  <tbody>\n",
       "    <tr>\n",
       "      <th>0</th>\n",
       "      <td>E1</td>\n",
       "      <td>E2</td>\n",
       "      <td>14553</td>\n",
       "      <td>13207</td>\n",
       "      <td>23595</td>\n",
       "    </tr>\n",
       "    <tr>\n",
       "      <th>1</th>\n",
       "      <td>E1</td>\n",
       "      <td>E4</td>\n",
       "      <td>24799</td>\n",
       "      <td>2961</td>\n",
       "      <td>13255</td>\n",
       "    </tr>\n",
       "    <tr>\n",
       "      <th>2</th>\n",
       "      <td>E2</td>\n",
       "      <td>E4</td>\n",
       "      <td>32238</td>\n",
       "      <td>4564</td>\n",
       "      <td>11652</td>\n",
       "    </tr>\n",
       "  </tbody>\n",
       "</table>\n",
       "</div>"
      ],
      "text/plain": [
       "  Edition Cross-Edition  Left in edition  Retained knowledge  \\\n",
       "0      E1            E2            14553               13207   \n",
       "1      E1            E4            24799                2961   \n",
       "2      E2            E4            32238                4564   \n",
       "\n",
       "   Introduced in cross-edition  \n",
       "0                        23595  \n",
       "1                        13255  \n",
       "2                        11652  "
      ]
     },
     "execution_count": 20,
     "metadata": {},
     "output_type": "execute_result"
    }
   ],
   "source": [
    "analyze_entity_dev_accross_editions(person_matchings, type=2) "
   ]
  },
  {
   "cell_type": "code",
   "execution_count": 21,
   "metadata": {},
   "outputs": [
    {
     "data": {
      "text/html": [
       "<div>\n",
       "<style scoped>\n",
       "    .dataframe tbody tr th:only-of-type {\n",
       "        vertical-align: middle;\n",
       "    }\n",
       "\n",
       "    .dataframe tbody tr th {\n",
       "        vertical-align: top;\n",
       "    }\n",
       "\n",
       "    .dataframe thead th {\n",
       "        text-align: right;\n",
       "    }\n",
       "</style>\n",
       "<table border=\"1\" class=\"dataframe\">\n",
       "  <thead>\n",
       "    <tr style=\"text-align: right;\">\n",
       "      <th></th>\n",
       "      <th>Edition</th>\n",
       "      <th>Cross-Edition</th>\n",
       "      <th>Left in edition</th>\n",
       "      <th>Retained knowledge</th>\n",
       "      <th>Introduced in cross-edition</th>\n",
       "    </tr>\n",
       "  </thead>\n",
       "  <tbody>\n",
       "    <tr>\n",
       "      <th>0</th>\n",
       "      <td>E1</td>\n",
       "      <td>E2</td>\n",
       "      <td>14889</td>\n",
       "      <td>12665</td>\n",
       "      <td>27758</td>\n",
       "    </tr>\n",
       "    <tr>\n",
       "      <th>1</th>\n",
       "      <td>E1</td>\n",
       "      <td>E4</td>\n",
       "      <td>23974</td>\n",
       "      <td>3580</td>\n",
       "      <td>15214</td>\n",
       "    </tr>\n",
       "    <tr>\n",
       "      <th>2</th>\n",
       "      <td>E2</td>\n",
       "      <td>E4</td>\n",
       "      <td>35756</td>\n",
       "      <td>4667</td>\n",
       "      <td>14127</td>\n",
       "    </tr>\n",
       "  </tbody>\n",
       "</table>\n",
       "</div>"
      ],
      "text/plain": [
       "  Edition Cross-Edition  Left in edition  Retained knowledge  \\\n",
       "0      E1            E2            14889               12665   \n",
       "1      E1            E4            23974                3580   \n",
       "2      E2            E4            35756                4667   \n",
       "\n",
       "   Introduced in cross-edition  \n",
       "0                        27758  \n",
       "1                        15214  \n",
       "2                        14127  "
      ]
     },
     "execution_count": 21,
     "metadata": {},
     "output_type": "execute_result"
    }
   ],
   "source": [
    "analyze_entity_dev_accross_editions(location_matchings, type=1)"
   ]
  },
  {
   "cell_type": "markdown",
   "metadata": {},
   "source": [
    "# WikiData Matching\n",
    "\n",
    "Use ``` SPARQLWrapper ``` to search for all WikiData entries that are described by <i>Nordisk Familjebok</i>.\n",
    "Feed the description of each entry into the same pipline as [Cross-edition Matching](#cross-edition-Matching), embed description ==> query Qdrant for matches. \n",
    "\n",
    "Fetch all related WikiData entires and embed them use KBLab's S-BERT."
   ]
  },
  {
   "cell_type": "code",
   "execution_count": 22,
   "metadata": {},
   "outputs": [],
   "source": [
    "with open('./dataset/wikidata/wikidata_entires.json', \"r\", encoding='utf-8') as wikidata_in:\n",
    "  wiki_entries = json.load(wikidata_in)\n",
    "  wikidata_in.close()\n",
    "embed_wikidata = sentece_model.encode([entry['desc'] for entry in wiki_entries])"
   ]
  },
  {
   "cell_type": "markdown",
   "metadata": {},
   "source": [
    "Query each embedded WikiData description in [Qdrant](https://qdrant.tech/) and only return results according to similar criteria as in [Cross-edition Matching](#cross-edition-Matching).\\\n",
    "The only distinction is the ability to toggle headword matching by specifying  ``` label_contains_headword ```. \n",
    "\n",
    "Pair up each WikiData object's Qid with the matched up entires edition ID (``` EX_XX ```), the resulting pairs are stored in the ``` Qid_JSON_ID_pairs ``` list. "
   ]
  },
  {
   "cell_type": "code",
   "execution_count": 23,
   "metadata": {},
   "outputs": [
    {
     "name": "stderr",
     "output_type": "stream",
     "text": [
      "Searching WikiData entries in Qdrant: 100%|██████████| 6/6 [00:05<00:00,  1.02it/s]\n"
     ]
    },
    {
     "data": {
      "text/plain": [
       "(7322, 11512)"
      ]
     },
     "execution_count": 23,
     "metadata": {},
     "output_type": "execute_result"
    }
   ],
   "source": [
    "def link_json_to_wikidata(embed_wikidata, cosine_threshold = 0.75, label_contains_headword = True ):\n",
    "  def qdrantID_to_JSON_ID(id:int)->str:\n",
    "    id = str(id)\n",
    "    return f\"E{id[:1]}_{id[1:]}\"\n",
    "\n",
    "  b_size = 2050\n",
    "  nbr_batches = math.ceil(len(embed_wikidata)/b_size)\n",
    "  Qid_JSON_ID_pairs = []\n",
    "\n",
    "  for entry_index in tqdm(list(range(nbr_batches)), desc=f\"Searching WikiData entries in Qdrant\"):\n",
    "    slice_start = entry_index*b_size\n",
    "    slice_end  = (entry_index+1)*b_size\n",
    "    search_embeddings = embed_wikidata[slice_start:slice_end]\n",
    "    \n",
    "    query_res = qdrant_client.query_batch_points(\n",
    "          collection_name=collection_name,\n",
    "          requests= [\n",
    "            qmodels.QueryRequest(\n",
    "              query=search_embed.tolist(),\n",
    "              limit=1,\n",
    "              score_threshold=cosine_threshold,\n",
    "              filter=(qmodels.Filter(\n",
    "                must=[\n",
    "                  qmodels.FieldCondition(\n",
    "                    key='head',\n",
    "                    match=qmodels.MatchAny(any=wiki_entries[slice_start:slice_end][search_index]['item'].split(\" \"))\n",
    "                  )\n",
    "                ]\n",
    "              ) if label_contains_headword else None)\n",
    "              ) \n",
    "            for search_index, search_embed in enumerate(search_embeddings)],\n",
    "        )\n",
    "    \n",
    "    for res_index, hits in enumerate(query_res):\n",
    "      if len(hits.points) > 0:\n",
    "        wiki_entry = wiki_entries[slice_start:slice_end][res_index]\n",
    "        Qid_JSON_ID_pairs.append({\"json_id\": qdrantID_to_JSON_ID(hits.points[0].id), \"qid\": wiki_entry['QID']})\n",
    "\n",
    "  return Qid_JSON_ID_pairs\n",
    "\n",
    "Qid_JSON_ID_pairs = link_json_to_wikidata(embed_wikidata, 0.75,True)\n",
    "len(Qid_JSON_ID_pairs),len(embed_wikidata)"
   ]
  },
  {
   "cell_type": "markdown",
   "metadata": {},
   "source": [
    "Evaluate 150 manually annotated entries."
   ]
  },
  {
   "cell_type": "code",
   "execution_count": 24,
   "metadata": {},
   "outputs": [
    {
     "name": "stdout",
     "output_type": "stream",
     "text": [
      "Wikidata linking accuracy: 89%\n"
     ]
    }
   ],
   "source": [
    "with open('./dataset/wikidata/wiki_eval.json', \"r\", encoding='utf-8') as  wiki_eval_in:\n",
    "  wiki_eval = json.load(wiki_eval_in)\n",
    "  wiki_eval_in.close()\n",
    "\n",
    "linked_eval_corrects = list(map(lambda e: e['correct'], wiki_eval))\n",
    "linked_eval_acc = sum(linked_eval_corrects)/len(linked_eval_corrects)*100\n",
    "print(f\"Wikidata linking accuracy: {linked_eval_acc:.0f}%\")"
   ]
  },
  {
   "cell_type": "markdown",
   "metadata": {},
   "source": [
    "Update the entry of every JSON_ID and all it's edition matched JSON_IDs with their newly matched wiki id (QID)"
   ]
  },
  {
   "cell_type": "code",
   "execution_count": 25,
   "metadata": {},
   "outputs": [],
   "source": [
    "def build_entry_matches():\n",
    "  entry_matches = {}\n",
    "  for version_entries in linked_db.values():\n",
    "    for entry in version_entries:\n",
    "      entry_id = entry['entry_id']\n",
    "      matches = {\n",
    "        entry_id\n",
    "      }\n",
    "      for match in ['E1_match', \"E2_match\", \"E3_match\", \"E4_match\"]:\n",
    "        if match in entry:\n",
    "            matches.add(entry[match])\n",
    "      entry_matches[entry_id] = matches\n",
    "  return entry_matches\n",
    "\n",
    "def wiki_links_all_editions(entry_matches):\n",
    "  all_edition_wiki_pairs = {}\n",
    "  for pair in Qid_JSON_ID_pairs:\n",
    "    json_id = pair['json_id']\n",
    "    qid = pair['qid']\n",
    "\n",
    "    if json_id in entry_matches:\n",
    "      all_edition_wiki_pairs.update({json_id: qid})\n",
    "\n",
    "      for matched_json_id in entry_matches[json_id]:\n",
    "          if matched_json_id != json_id:\n",
    "              all_edition_wiki_pairs.update({matched_json_id: qid})\n",
    "  return all_edition_wiki_pairs\n",
    "\n",
    "def write_wiki_db_to_json(wiki_pairs, wiki_db_file_name, verbose=False):\n",
    "  import copy\n",
    "  wiki_db = copy.deepcopy(linked_db)\n",
    "\n",
    "  total_cnt = 0\n",
    "  for edition in wiki_db:\n",
    "    edition_cnt = 0\n",
    "    for entry in wiki_db[edition]:\n",
    "      entry_id = entry['entry_id']\n",
    "      if entry_id in wiki_pairs:\n",
    "        edition_cnt+=1\n",
    "        entry['QID'] = wiki_pairs[entry_id]\n",
    "    total_cnt+=edition_cnt\n",
    "\n",
    "    if verbose:\n",
    "      print(edition_cnt)\n",
    "  \n",
    "  if verbose:\n",
    "    print(total_cnt)\n",
    "\n",
    "  with open(wiki_db_file_name, \"w\") as wiki_db_out:\n",
    "    json.dump(wiki_db, wiki_db_out, indent=4, ensure_ascii=False)\n",
    "    wiki_db_out.close()\n",
    "\n",
    "  return wiki_db\n",
    "\n",
    "all_edition_wiki_pairs = wiki_links_all_editions(build_entry_matches())\n",
    "SHOULD_SAVE_WIKI_DB = False\n",
    "WIKI_DB_JSON = './dataset/wiki_linked_entries.json'\n",
    "if SHOULD_SAVE_WIKI_DB:\n",
    "  wiki_db = write_wiki_db_to_json(all_edition_wiki_pairs, WIKI_DB_JSON)"
   ]
  }
 ],
 "metadata": {
  "kernelspec": {
   "display_name": "edan70env",
   "language": "python",
   "name": "python3"
  },
  "language_info": {
   "codemirror_mode": {
    "name": "ipython",
    "version": 3
   },
   "file_extension": ".py",
   "mimetype": "text/x-python",
   "name": "python",
   "nbconvert_exporter": "python",
   "pygments_lexer": "ipython3",
   "version": "3.12.3"
  }
 },
 "nbformat": 4,
 "nbformat_minor": 2
}
