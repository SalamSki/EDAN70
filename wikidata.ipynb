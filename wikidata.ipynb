{
 "cells": [
  {
   "cell_type": "code",
   "execution_count": 1,
   "metadata": {},
   "outputs": [],
   "source": [
    "from SPARQLWrapper import SPARQLWrapper, JSON\n",
    "import requests\n",
    "import json\n",
    "import numpy as np"
   ]
  },
  {
   "cell_type": "code",
   "execution_count": 2,
   "metadata": {},
   "outputs": [],
   "source": [
    "def fetch_coordinates(qid):\n",
    "    url = \"https://www.wikidata.org/w/api.php\"\n",
    "    params = {\n",
    "        \"action\": \"wbgetentities\",\n",
    "        \"ids\": qid,\n",
    "        \"props\": \"claims\",\n",
    "        \"format\": \"json\"\n",
    "    }\n",
    "    response = requests.get(url, params=params)\n",
    "    data = response.json()\n",
    "    \n",
    "    # Extract coordinates from property P625\n",
    "    claims = data.get(\"entities\", {}).get(qid, {}).get(\"claims\", {})\n",
    "    coordinate_claims = claims.get(\"P625\", [])\n",
    "    if coordinate_claims:\n",
    "        coordinates = coordinate_claims[0][\"mainsnak\"][\"datavalue\"][\"value\"]\n",
    "        lat, lon = coordinates[\"latitude\"], coordinates[\"longitude\"]\n",
    "        return lat, lon\n",
    "    else:\n",
    "        return None\n",
    "\n",
    "def fetch_wikidata_entity(qid):\n",
    "    url = \"https://www.wikidata.org/w/api.php\"\n",
    "    params = {\n",
    "        \"action\": \"wbgetentities\",\n",
    "        \"ids\": qid,\n",
    "        \"format\": \"json\"\n",
    "    }\n",
    "    response = requests.get(url, params=params)\n",
    "    if response.status_code == 200:\n",
    "        return response.json()\n",
    "    else:\n",
    "        raise Exception(f\"Failed to fetch data: {response.status_code}\")"
   ]
  },
  {
   "cell_type": "code",
   "execution_count": 5,
   "metadata": {},
   "outputs": [],
   "source": [
    "def query_wikidata(query):\n",
    "  sparql.setQuery(query)\n",
    "  sparql.setReturnFormat(JSON)\n",
    "  results = sparql.query().convert()\n",
    "  return [{var_key:result_item[var_key]['value'] for var_key in results['head']['vars'] if var_key in result_item}\n",
    "  for result_item in results['results']['bindings']]\n",
    "\n",
    "sparql = SPARQLWrapper(\"https://query.wikidata.org/sparql\")\n",
    "\n",
    "persons = query_wikidata(f\"\"\" \n",
    "              SELECT ?person ?personLabel ?description WHERE {{\n",
    "                ?person wdt:P1343 wd:Q678259;  # Described by Nordisk Familjeboken\n",
    "                        wdt:P31 wd:Q5.         # Instance of human\n",
    "                OPTIONAL {{ ?person schema:description ?description. FILTER(LANG(?description) = \"sv\"). }}\n",
    "                SERVICE wikibase:label {{ bd:serviceParam wikibase:language \"sv\". }}\n",
    "              }}\n",
    "              \"\"\")"
   ]
  },
  {
   "cell_type": "code",
   "execution_count": 4,
   "metadata": {},
   "outputs": [
    {
     "data": {
      "text/plain": [
       "(3413, 6019)"
      ]
     },
     "execution_count": 4,
     "metadata": {},
     "output_type": "execute_result"
    }
   ],
   "source": [
    "non_desc_persons = list(map(lambda p: \"description\" not in p ,persons))\n",
    "desc_persons = list(map(lambda p: \"description\" in p ,persons))\n",
    "sum(non_desc_persons), sum(desc_persons)"
   ]
  }
 ],
 "metadata": {
  "kernelspec": {
   "display_name": "base",
   "language": "python",
   "name": "python3"
  },
  "language_info": {
   "codemirror_mode": {
    "name": "ipython",
    "version": 3
   },
   "file_extension": ".py",
   "mimetype": "text/x-python",
   "name": "python",
   "nbconvert_exporter": "python",
   "pygments_lexer": "ipython3",
   "version": "3.12.3"
  }
 },
 "nbformat": 4,
 "nbformat_minor": 2
}
