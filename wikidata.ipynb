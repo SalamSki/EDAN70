{
 "cells": [
  {
   "cell_type": "code",
   "execution_count": 3,
   "metadata": {},
   "outputs": [
    {
     "data": {
      "application/vnd.jupyter.widget-view+json": {
       "model_id": "ac8d254e0ad041ac9ec33fdca8a6847d",
       "version_major": 2,
       "version_minor": 0
      },
      "text/plain": [
       "modules.json:   0%|          | 0.00/349 [00:00<?, ?B/s]"
      ]
     },
     "metadata": {},
     "output_type": "display_data"
    },
    {
     "data": {
      "application/vnd.jupyter.widget-view+json": {
       "model_id": "ad1b874c5af94010a5d602934c044364",
       "version_major": 2,
       "version_minor": 0
      },
      "text/plain": [
       "config_sentence_transformers.json:   0%|          | 0.00/116 [00:00<?, ?B/s]"
      ]
     },
     "metadata": {},
     "output_type": "display_data"
    },
    {
     "data": {
      "application/vnd.jupyter.widget-view+json": {
       "model_id": "c1cdfc7992a04e4e90c0cdad6e882c8b",
       "version_major": 2,
       "version_minor": 0
      },
      "text/plain": [
       "README.md:   0%|          | 0.00/10.7k [00:00<?, ?B/s]"
      ]
     },
     "metadata": {},
     "output_type": "display_data"
    },
    {
     "data": {
      "application/vnd.jupyter.widget-view+json": {
       "model_id": "1bf7edc454244432b7b50e25926a8b3c",
       "version_major": 2,
       "version_minor": 0
      },
      "text/plain": [
       "sentence_bert_config.json:   0%|          | 0.00/53.0 [00:00<?, ?B/s]"
      ]
     },
     "metadata": {},
     "output_type": "display_data"
    },
    {
     "data": {
      "application/vnd.jupyter.widget-view+json": {
       "model_id": "406303c234f6488297ae314b7ab20e80",
       "version_major": 2,
       "version_minor": 0
      },
      "text/plain": [
       "config.json:   0%|          | 0.00/612 [00:00<?, ?B/s]"
      ]
     },
     "metadata": {},
     "output_type": "display_data"
    },
    {
     "data": {
      "application/vnd.jupyter.widget-view+json": {
       "model_id": "ae7d8c4addd94438838b7cecb00d8255",
       "version_major": 2,
       "version_minor": 0
      },
      "text/plain": [
       "model.safetensors:   0%|          | 0.00/90.9M [00:00<?, ?B/s]"
      ]
     },
     "metadata": {},
     "output_type": "display_data"
    },
    {
     "data": {
      "application/vnd.jupyter.widget-view+json": {
       "model_id": "182b7b047bdf4a739434aaa316b43488",
       "version_major": 2,
       "version_minor": 0
      },
      "text/plain": [
       "tokenizer_config.json:   0%|          | 0.00/350 [00:00<?, ?B/s]"
      ]
     },
     "metadata": {},
     "output_type": "display_data"
    },
    {
     "data": {
      "application/vnd.jupyter.widget-view+json": {
       "model_id": "36744172393645979d1f9558e4e6e60a",
       "version_major": 2,
       "version_minor": 0
      },
      "text/plain": [
       "vocab.txt:   0%|          | 0.00/232k [00:00<?, ?B/s]"
      ]
     },
     "metadata": {},
     "output_type": "display_data"
    },
    {
     "data": {
      "application/vnd.jupyter.widget-view+json": {
       "model_id": "54cccaf3e6e644c6bfd49260936ce08f",
       "version_major": 2,
       "version_minor": 0
      },
      "text/plain": [
       "tokenizer.json:   0%|          | 0.00/466k [00:00<?, ?B/s]"
      ]
     },
     "metadata": {},
     "output_type": "display_data"
    },
    {
     "data": {
      "application/vnd.jupyter.widget-view+json": {
       "model_id": "126c771416c14376ad8657025769fa87",
       "version_major": 2,
       "version_minor": 0
      },
      "text/plain": [
       "special_tokens_map.json:   0%|          | 0.00/112 [00:00<?, ?B/s]"
      ]
     },
     "metadata": {},
     "output_type": "display_data"
    },
    {
     "data": {
      "application/vnd.jupyter.widget-view+json": {
       "model_id": "68a82c3263a74c48a2a24f809ea5b3ef",
       "version_major": 2,
       "version_minor": 0
      },
      "text/plain": [
       "1_Pooling/config.json:   0%|          | 0.00/190 [00:00<?, ?B/s]"
      ]
     },
     "metadata": {},
     "output_type": "display_data"
    },
    {
     "name": "stdout",
     "output_type": "stream",
     "text": [
      "URI: http://www.wikidata.org/entity/Q2167\n",
      "Label: Lund\n",
      "Description: city in the southern Swedish province of Scania\n",
      "Score: 0.7734\n",
      "\n",
      "URI: http://www.wikidata.org/entity/Q2636551\n",
      "Label: Lund\n",
      "Description: town in Nevada, USA\n",
      "Score: 0.3837\n",
      "\n",
      "URI: http://www.wikidata.org/entity/Q2110120\n",
      "Label: Lund\n",
      "Description: småort in Järfälla Municipality, Sweden\n",
      "Score: 0.2177\n",
      "\n",
      "URI: http://www.wikidata.org/entity/Q103952968\n",
      "Label: Lund\n",
      "Description: encyclopedia article\n",
      "Score: 0.2170\n",
      "\n",
      "URI: http://www.wikidata.org/entity/Q2275546\n",
      "Label: Lund\n",
      "Description: former småort in Skellefteå Municipality, Sweden\n",
      "Score: 0.2144\n",
      "\n",
      "URI: http://www.wikidata.org/entity/Q231412\n",
      "Label: Lund\n",
      "Description: Wikimedia disambiguation page\n",
      "Score: 0.2103\n",
      "\n",
      "URI: http://www.wikidata.org/entity/Q105590218\n",
      "Label: Lund\n",
      "Description: unisex given name\n",
      "Score: 0.1499\n",
      "\n",
      "URI: http://www.wikidata.org/entity/Q29599\n",
      "Label: Lund\n",
      "Description: family name\n",
      "Score: 0.1485\n",
      "\n",
      "URI: http://www.wikidata.org/entity/Q2599743\n",
      "Label: Lund\n",
      "Description: village and civil parish in East Riding of Yorkshire, United Kingdom\n",
      "Score: 0.1444\n",
      "\n",
      "URI: http://www.wikidata.org/entity/Q101173632\n",
      "Label: Lund\n",
      "Description: place in Fauske, Nordland, Norway\n",
      "Score: 0.1116\n",
      "\n"
     ]
    }
   ],
   "source": [
    "from SPARQLWrapper import SPARQLWrapper, JSON\n",
    "from sentence_transformers import SentenceTransformer, util\n",
    "\n",
    "# Load a pre-trained Sentence Transformer model\n",
    "model = SentenceTransformer('all-MiniLM-L6-v2')  # Lightweight and fast\n",
    "\n",
    "# Define your SPARQL endpoint and query\n",
    "sparql = SPARQLWrapper(\"https://query.wikidata.org/sparql\")\n",
    "headword = \"Lund\"\n",
    "definition = \"city in the province of Scania\"\n",
    "\n",
    "query = f\"\"\"\n",
    "SELECT ?item ?itemLabel ?description WHERE {{\n",
    "  ?item rdfs:label \"{headword}\"@en.\n",
    "  ?item schema:description ?description.\n",
    "  FILTER(LANG(?description) = \"en\").\n",
    "  SERVICE wikibase:label {{ bd:serviceParam wikibase:language \"[AUTO_LANGUAGE],en\". }}\n",
    "}}\n",
    "LIMIT 10\n",
    "\"\"\"\n",
    "sparql.setQuery(query)\n",
    "sparql.setReturnFormat(JSON)\n",
    "results = sparql.query().convert()\n",
    "\n",
    "# Extract results\n",
    "items = []\n",
    "for result in results[\"results\"][\"bindings\"]:\n",
    "    items.append({\n",
    "        \"uri\": result[\"item\"][\"value\"],\n",
    "        \"label\": result[\"itemLabel\"][\"value\"],\n",
    "        \"description\": result[\"description\"][\"value\"]\n",
    "    })\n",
    "\n",
    "# Encode definition and descriptions into semantic embeddings\n",
    "definition_embedding = model.encode(definition, convert_to_tensor=True)\n",
    "descriptions = [item[\"description\"] for item in items]\n",
    "description_embeddings = model.encode(descriptions, convert_to_tensor=True)\n",
    "\n",
    "# Compute cosine similarity between definition and descriptions\n",
    "cosine_scores = util.cos_sim(definition_embedding, description_embeddings).squeeze()\n",
    "\n",
    "# Attach scores to items and sort by similarity\n",
    "for i, score in enumerate(cosine_scores):\n",
    "    items[i][\"score\"] = score.item()\n",
    "items = sorted(items, key=lambda x: x[\"score\"], reverse=True)\n",
    "\n",
    "# Display results\n",
    "for item in items:\n",
    "    print(f\"URI: {item['uri']}\")\n",
    "    print(f\"Label: {item['label']}\")\n",
    "    print(f\"Description: {item['description']}\")\n",
    "    print(f\"Score: {item['score']:.4f}\")\n",
    "    print()\n"
   ]
  }
 ],
 "metadata": {
  "kernelspec": {
   "display_name": "myenv4",
   "language": "python",
   "name": "myenv4"
  },
  "language_info": {
   "codemirror_mode": {
    "name": "ipython",
    "version": 3
   },
   "file_extension": ".py",
   "mimetype": "text/x-python",
   "name": "python",
   "nbconvert_exporter": "python",
   "pygments_lexer": "ipython3",
   "version": "3.10.13"
  }
 },
 "nbformat": 4,
 "nbformat_minor": 2
}
