{
 "cells": [
  {
   "cell_type": "code",
   "execution_count": 54,
   "metadata": {},
   "outputs": [
    {
     "name": "stdout",
     "output_type": "stream",
     "text": [
      "Using device: cpu\n"
     ]
    }
   ],
   "source": [
    "import torch\n",
    "import torch.nn as nn\n",
    "import matplotlib.pyplot as plt\n",
    "from torch.utils.data import DataLoader, TensorDataset\n",
    "from transformers import AutoTokenizer, BertForTokenClassification, BertModel\n",
    "from sklearn.model_selection import train_test_split\n",
    "from typing import List, Tuple\n",
    "from tqdm import tqdm\n",
    "import json\n",
    "import random\n",
    "import regex as re\n",
    "import numpy as np\n",
    "\n",
    "# Device configuration\n",
    "device = torch.device(\"cuda\" if torch.cuda.is_available() else \"cpu\")\n",
    "print(f\"Using device: {device}\")\n",
    "\n",
    "# Load tokenizer and add special tokens\n",
    "tokenizer = AutoTokenizer.from_pretrained(\"KB/bert-base-swedish-cased-ner\")\n",
    "special_tokens = [\"[START_HEADWORD]\", \"[IN_HEADWORD]\", \"[NO_HEADWORD]\"]\n",
    "tokenizer.add_special_tokens({\"additional_special_tokens\": special_tokens})\n",
    "label_map = {'[PAD]': -100, '[NO_HEADWORD]' : 0, '[START_HEADWORD]': 1, \"[IN_HEADWORD]\": 2}\n",
    "datafiles = {\n",
    "  \"E1\" : [''],\n",
    "  \"E2\" : ['a', 'b'],\n",
    "  \"E3\" : [''],\n",
    "  \"E4\" : ['']\n",
    "}\n"
   ]
  },
  {
   "cell_type": "code",
   "execution_count": 55,
   "metadata": {},
   "outputs": [],
   "source": [
    "def build_b_tag_dataset(datastring, next_chars = 500, verbose=False):\n",
    "  b_tag_dict = []\n",
    "\n",
    "  # BUILD POSITIVE \n",
    "  for match in tqdm(re.finditer(r\"((?<=<b>).+<\\/b>)(.*(?<=<b>).+<\\/b>)*\", datastring), disable=(not verbose)):\n",
    "    g1 = match.group(0)\n",
    "    matched_b_tag = re.sub(r\"</b>.*<b>|</b>\",\" \",g1).strip()\n",
    "    end_of_b_tag = match.end()  \n",
    "    \n",
    "    surrounding_text_match = re.search(r\"([^<]{1,\"+str(next_chars)+r\"})(?=<|$)\", datastring[end_of_b_tag:end_of_b_tag+next_chars])\n",
    "    surrounding_text = surrounding_text_match.group(0) if surrounding_text_match else \"\"\n",
    "\n",
    "    short_def = re.sub(r\"\\s+\", \" \", surrounding_text).strip()\n",
    "    if len(short_def) > 0:\n",
    "      b_tag_dict.append([f\"{matched_b_tag} {short_def}\", matched_b_tag])\n",
    "\n",
    "  # BUILD NEGATIVE\n",
    "  for match in tqdm(re.finditer(r\"(\\n\\n\\p{Upper}[^<]{10,500})(?=\\n|$|<)\", datastring), disable=(not verbose)):\n",
    "    g = match.group(0)\n",
    "    matched_text = re.sub(r\"\\s+\", \" \", g).strip()\n",
    "    b_tag_dict.append([matched_text, \"[NO_HEADWORD]\"]) # add NO_HEADWORD token\n",
    "\n",
    "\n",
    "  return b_tag_dict"
   ]
  },
  {
   "cell_type": "code",
   "execution_count": 56,
   "metadata": {},
   "outputs": [],
   "source": [
    "def build_json_headword_set():\n",
    "    for i, edition in enumerate(['E1', 'E2']):  # Adapt editions/files as needed\n",
    "        dataset = \"\"\n",
    "        for file in datafiles.get(edition):\n",
    "            with open(f\"./dataset/NF_{edition}{file}.txt\", \"r\", encoding='utf-8') as fr:\n",
    "                dataset += fr.read()\n",
    "\n",
    "        b_tag_dict = build_b_tag_dataset(dataset, verbose=True)\n",
    "        print(f\"{edition} has {len(b_tag_dict):,} entries\")\n",
    "\n",
    "        with open(f\"./dataset/NF_{edition}_B.json\", \"w\", encoding='utf-8') as b_json: # add encoding\n",
    "            json.dump(b_tag_dict, b_json, indent=2, ensure_ascii=False)\n",
    "#build_json_headword_set()"
   ]
  },
  {
   "cell_type": "code",
   "execution_count": 57,
   "metadata": {},
   "outputs": [],
   "source": [
    "def load_headword_dataset():\n",
    "  dataset = []\n",
    "  for edition in ['E1', 'E2']:\n",
    "      with open(f\"./dataset/NF_{edition}_B.json\", \"r\", encoding='utf-8') as b_json:\n",
    "        dataset += json.load(b_json)\n",
    "        b_json.close()\n",
    "  return dataset\n",
    "\n",
    "\n"
   ]
  },
  {
   "cell_type": "code",
   "execution_count": 58,
   "metadata": {},
   "outputs": [
    {
     "name": "stderr",
     "output_type": "stream",
     "text": [
      "100%|██████████| 308/308 [00:00<00:00, 2820.69it/s]\n",
      "100%|██████████| 309/309 [00:00<00:00, 2904.60it/s]\n"
     ]
    }
   ],
   "source": [
    "def load_headword_dataset():\n",
    "  dataset = []\n",
    "  for edition in ['E1', 'E2']:\n",
    "      with open(f\"./dataset/NF_{edition}_B.json\", \"r\", encoding='utf-8') as b_json:\n",
    "        dataset += json.load(b_json)\n",
    "        b_json.close()\n",
    "  #return dataset\n",
    "  return dataset[:int(len(dataset) * 0.01)]\n",
    "\n",
    "def process_data(sentence, headword):\n",
    "    encoded_sentence = tokenizer(\n",
    "        sentence,\n",
    "        add_special_tokens=True, \n",
    "        padding='max_length',   \n",
    "        max_length=100,        \n",
    "        truncation=True,       \n",
    "        return_tensors='pt'  \n",
    "    )\n",
    "    encoded_headword = tokenizer(\n",
    "        headword,\n",
    "        add_special_tokens=True,\n",
    "        padding='max_length',\n",
    "        max_length=20,           \n",
    "        truncation=True,\n",
    "        return_tensors='pt'\n",
    "    )\n",
    "    return encoded_sentence['input_ids'][0], encoded_headword['input_ids'][0]\n",
    "\n",
    "def extract_features_labels(dataset) -> Tuple[List, List]:\n",
    "    x = []\n",
    "    y = []\n",
    "    for entry in tqdm(dataset):\n",
    "      sentence, headword = process_data(entry[0], entry[1])\n",
    "      x.append(sentence)\n",
    "\n",
    "      min_len = min(len(sentence), len(headword))\n",
    "      headword_mask = np.where((sentence[:min_len] > 4) & (sentence[:min_len] == headword[:min_len]), 1, 0)\n",
    "      headword_mask = np.pad(headword_mask, (0, len(sentence) - min_len), 'constant')\n",
    "      \n",
    "      y.append(torch.tensor(headword_mask))\n",
    "    return torch.stack(x).to(device), torch.stack(y).to(device)\n",
    "\n",
    "tokenizer = AutoTokenizer.from_pretrained(\"KB/bert-base-swedish-cased-ner\")\n",
    "dataset = load_headword_dataset()\n",
    "\n",
    "random.seed(123)\n",
    "random.shuffle(dataset)\n",
    "\n",
    "\n",
    "#test_set = dataset[:5000]\n",
    "#dataset = dataset[5000:]\n",
    "test_set = dataset[:int(len(dataset) * 0.1)]\n",
    "dataset = dataset[int(len(dataset) * 0.9):]\n",
    "\n",
    "X_test, y_test = extract_features_labels(test_set) # <-- Use this to comapre different models. \n",
    "X, y = extract_features_labels(dataset)   \n",
    "\n"
   ]
  },
  {
   "cell_type": "code",
   "execution_count": 59,
   "metadata": {},
   "outputs": [
    {
     "name": "stdout",
     "output_type": "stream",
     "text": [
      "Input Sentence: \n",
      "Almqvist, Karl Jonas Ludvig, skolman och författare, sonson till Erik Jonas A., föddes i Stockholm d. 28 Nov. 1793. Föräldrarne voro krigskommissarien Karl Gustaf Almqvist och Brigitta Lovisa Giörwell, dotter af den namnkunnige samlaren K. K. Giörwell. 1808 blef han student i Upsala. Under sin studenttid hade han kondition hos en baron Hisinger på Fagerviks bruk i Finland och sysselsatte sig då bland annat med\n",
      "\n",
      "Tokenized Sentence: \n",
      "[2, 20864, 19, 1407, 5048, 17350, 19, 18396, 10, 36, 4567, 19, 40426, 35, 76, 1277, 5048, 101, 7, 19, 6138, 31, 456, 15, 7, 1795, 11550, 7, 23607, 49832, 7, 35403, 320, 15674, 9930, 40012, 49794, 1407, 3040, 20864, 36, 15349, 4167, 33019, 8361, 22, 11673, 19, 3479, 4815, 97, 1419, 25102, 49791, 32789, 49794, 120, 7, 120, 7, 8361, 22, 11673, 7, 6068, 49843, 21829, 49808, 156, 6656, 31, 37858, 7, 1141, 243, 6656, 364, 365, 156, 17777, 937, 59, 46050, 27149, 6139, 68, 11322, 15987, 1857, 31, 2815, 36, 28951, 49791, 195, 327, 758, 845, 66, 3]\n",
      "\n",
      "Target Mask: \n",
      "[0, 1, 1, 0, 0, 0, 0, 0, 0, 0, 0, 0, 0, 0, 0, 0, 0, 0, 0, 0, 0, 0, 0, 0, 0, 0, 0, 0, 0, 0, 0, 0, 0, 0, 0, 0, 0, 0, 0, 0, 0, 0, 0, 0, 0, 0, 0, 0, 0, 0, 0, 0, 0, 0, 0, 0, 0, 0, 0, 0, 0, 0, 0, 0, 0, 0, 0, 0, 0, 0, 0, 0, 0, 0, 0, 0, 0, 0, 0, 0, 0, 0, 0, 0, 0, 0, 0, 0, 0, 0, 0, 0, 0, 0, 0, 0, 0, 0, 0, 0]\n",
      "\n",
      "Target Headword: \n",
      "Almqvist,\n"
     ]
    }
   ],
   "source": [
    "example_index = 3\n",
    "input = X[example_index]\n",
    "mask = y[example_index]\n",
    "headword = X[example_index][torch.flatten(torch.nonzero(y[example_index]))]\n",
    "print(f\"Input Sentence: \\n{tokenizer.decode(input, skip_special_tokens=True)}\\n\")\n",
    "print(f\"Tokenized Sentence: \\n{input.tolist()}\\n\")\n",
    "print(f\"Target Mask: \\n{mask.tolist()}\\n\")\n",
    "print(f\"Target Headword: \\n{tokenizer.decode(headword, skip_special_tokens=True)}\")"
   ]
  },
  {
   "cell_type": "code",
   "execution_count": 60,
   "metadata": {},
   "outputs": [
    {
     "name": "stdout",
     "output_type": "stream",
     "text": [
      "Vocab size: 50325\n",
      "Max input ID: 49941\n"
     ]
    }
   ],
   "source": [
    "X_train, X_val, y_train, y_val = train_test_split(X, y, test_size=0.20) # <-- Use to train our model or fine-tune a model.\n",
    "print(\"Vocab size:\", tokenizer.vocab_size)\n",
    "print(\"Max input ID:\", torch.max(X_train).item())"
   ]
  },
  {
   "cell_type": "code",
   "execution_count": 61,
   "metadata": {},
   "outputs": [],
   "source": [
    "class HeadwordExtractor(nn.Module):\n",
    "    def __init__(self, num_labels):\n",
    "        super().__init__()\n",
    "        self.bert = BertModel.from_pretrained(\n",
    "            \"KB/bert-base-swedish-cased-ner\"\n",
    "        )\n",
    "        self.bert.resize_token_embeddings(len(tokenizer))\n",
    "        self.classifier = nn.Linear(self.bert.config.hidden_size, num_labels) # Add a new classification layer\n",
    "        self.num_labels = num_labels  # Store num_labels as an attribute\n",
    "\n",
    "    def forward(self, input_ids):\n",
    "            outputs = self.bert(input_ids)\n",
    "            logits = self.classifier(outputs.last_hidden_state)  # Classify each token\n",
    "            return logits\n"
   ]
  },
  {
   "cell_type": "code",
   "execution_count": 62,
   "metadata": {},
   "outputs": [
    {
     "data": {
      "text/plain": [
       "HeadwordExtractor(\n",
       "  (bert): BertModel(\n",
       "    (embeddings): BertEmbeddings(\n",
       "      (word_embeddings): Embedding(50325, 768, padding_idx=0)\n",
       "      (position_embeddings): Embedding(512, 768)\n",
       "      (token_type_embeddings): Embedding(2, 768)\n",
       "      (LayerNorm): LayerNorm((768,), eps=1e-12, elementwise_affine=True)\n",
       "      (dropout): Dropout(p=0.1, inplace=False)\n",
       "    )\n",
       "    (encoder): BertEncoder(\n",
       "      (layer): ModuleList(\n",
       "        (0-11): 12 x BertLayer(\n",
       "          (attention): BertAttention(\n",
       "            (self): BertSdpaSelfAttention(\n",
       "              (query): Linear(in_features=768, out_features=768, bias=True)\n",
       "              (key): Linear(in_features=768, out_features=768, bias=True)\n",
       "              (value): Linear(in_features=768, out_features=768, bias=True)\n",
       "              (dropout): Dropout(p=0.1, inplace=False)\n",
       "            )\n",
       "            (output): BertSelfOutput(\n",
       "              (dense): Linear(in_features=768, out_features=768, bias=True)\n",
       "              (LayerNorm): LayerNorm((768,), eps=1e-12, elementwise_affine=True)\n",
       "              (dropout): Dropout(p=0.1, inplace=False)\n",
       "            )\n",
       "          )\n",
       "          (intermediate): BertIntermediate(\n",
       "            (dense): Linear(in_features=768, out_features=3072, bias=True)\n",
       "            (intermediate_act_fn): GELUActivation()\n",
       "          )\n",
       "          (output): BertOutput(\n",
       "            (dense): Linear(in_features=3072, out_features=768, bias=True)\n",
       "            (LayerNorm): LayerNorm((768,), eps=1e-12, elementwise_affine=True)\n",
       "            (dropout): Dropout(p=0.1, inplace=False)\n",
       "          )\n",
       "        )\n",
       "      )\n",
       "    )\n",
       "    (pooler): BertPooler(\n",
       "      (dense): Linear(in_features=768, out_features=768, bias=True)\n",
       "      (activation): Tanh()\n",
       "    )\n",
       "  )\n",
       "  (classifier): Linear(in_features=768, out_features=2, bias=True)\n",
       ")"
      ]
     },
     "execution_count": 62,
     "metadata": {},
     "output_type": "execute_result"
    }
   ],
   "source": [
    "embedding_dim = 128\n",
    "hidden_dim = 128\n",
    "batch_size = 32\n",
    "num_epochs = 5\n",
    "learning_rate = 0.001\n",
    "\n",
    "train_dataset = TensorDataset(X_train.long(), y_train.long())\n",
    "val_dataset = TensorDataset(X_val.long(), y_val.long())\n",
    "\n",
    "train_loader = DataLoader(train_dataset, batch_size=batch_size, shuffle=True)\n",
    "val_loader = DataLoader(val_dataset, batch_size=batch_size, shuffle=False)\n",
    "\n",
    "#model = HeadwordExtractor(tokenizer.vocab_size, embedding_dim, hidden_dim, nbr_classes=2, num_layers=1,bidi_lstm=True).to(device)\n",
    "\n",
    "model = HeadwordExtractor(num_labels=2).to(device)\n",
    "#optimizer = torch.optim.Adam(model.parameters(), lr=learning_rate)\n",
    "optimizer = torch.optim.AdamW(model.parameters(), lr=2e-5)\n",
    "\n",
    "criterion = nn.CrossEntropyLoss()\n",
    "model"
   ]
  },
  {
   "cell_type": "code",
   "execution_count": 63,
   "metadata": {},
   "outputs": [
    {
     "name": "stdout",
     "output_type": "stream",
     "text": [
      "Epoch 1/5:\n"
     ]
    },
    {
     "name": "stderr",
     "output_type": "stream",
     "text": [
      "Training: 100%|██████████| 8/8 [00:43<00:00,  5.50s/it]\n"
     ]
    },
    {
     "name": "stdout",
     "output_type": "stream",
     "text": [
      "Train Loss: 0.3120, Train Accuracy: 0.8765\n"
     ]
    },
    {
     "name": "stderr",
     "output_type": "stream",
     "text": [
      "Validation: 100%|██████████| 2/2 [00:03<00:00,  1.57s/it]\n"
     ]
    },
    {
     "name": "stdout",
     "output_type": "stream",
     "text": [
      "Validation Loss: 0.1375, Validation Accuracy: 0.9655\n",
      "\n",
      "Epoch 2/5:\n"
     ]
    },
    {
     "name": "stderr",
     "output_type": "stream",
     "text": [
      "Training: 100%|██████████| 8/8 [00:51<00:00,  6.49s/it]\n"
     ]
    },
    {
     "name": "stdout",
     "output_type": "stream",
     "text": [
      "Train Loss: 0.1251, Train Accuracy: 0.9649\n"
     ]
    },
    {
     "name": "stderr",
     "output_type": "stream",
     "text": [
      "Validation: 100%|██████████| 2/2 [00:03<00:00,  1.58s/it]\n"
     ]
    },
    {
     "name": "stdout",
     "output_type": "stream",
     "text": [
      "Validation Loss: 0.1081, Validation Accuracy: 0.9655\n",
      "\n",
      "Epoch 3/5:\n"
     ]
    },
    {
     "name": "stderr",
     "output_type": "stream",
     "text": [
      "Training: 100%|██████████| 8/8 [00:56<00:00,  7.11s/it]\n"
     ]
    },
    {
     "name": "stdout",
     "output_type": "stream",
     "text": [
      "Train Loss: 0.0874, Train Accuracy: 0.9678\n"
     ]
    },
    {
     "name": "stderr",
     "output_type": "stream",
     "text": [
      "Validation: 100%|██████████| 2/2 [00:04<00:00,  2.27s/it]\n"
     ]
    },
    {
     "name": "stdout",
     "output_type": "stream",
     "text": [
      "Validation Loss: 0.0744, Validation Accuracy: 0.9772\n",
      "\n",
      "Epoch 4/5:\n"
     ]
    },
    {
     "name": "stderr",
     "output_type": "stream",
     "text": [
      "Training: 100%|██████████| 8/8 [00:57<00:00,  7.17s/it]\n"
     ]
    },
    {
     "name": "stdout",
     "output_type": "stream",
     "text": [
      "Train Loss: 0.0622, Train Accuracy: 0.9800\n"
     ]
    },
    {
     "name": "stderr",
     "output_type": "stream",
     "text": [
      "Validation: 100%|██████████| 2/2 [00:03<00:00,  1.68s/it]\n"
     ]
    },
    {
     "name": "stdout",
     "output_type": "stream",
     "text": [
      "Validation Loss: 0.0507, Validation Accuracy: 0.9826\n",
      "\n",
      "Epoch 5/5:\n"
     ]
    },
    {
     "name": "stderr",
     "output_type": "stream",
     "text": [
      "Training: 100%|██████████| 8/8 [00:52<00:00,  6.61s/it]\n"
     ]
    },
    {
     "name": "stdout",
     "output_type": "stream",
     "text": [
      "Train Loss: 0.0367, Train Accuracy: 0.9875\n"
     ]
    },
    {
     "name": "stderr",
     "output_type": "stream",
     "text": [
      "Validation: 100%|██████████| 2/2 [00:03<00:00,  1.62s/it]"
     ]
    },
    {
     "name": "stdout",
     "output_type": "stream",
     "text": [
      "Validation Loss: 0.0330, Validation Accuracy: 0.9878\n",
      "\n"
     ]
    },
    {
     "name": "stderr",
     "output_type": "stream",
     "text": [
      "\n"
     ]
    }
   ],
   "source": [
    "history=[]\n",
    "for epoch in range(num_epochs):\n",
    "    print(f\"Epoch {epoch+1}/{num_epochs}:\")\n",
    "   \n",
    "    model.train()\n",
    "    train_loss = 0\n",
    "    train_accuracy = 0\n",
    "    temp = 0\n",
    "    for input_batch, target_batch in tqdm(train_loader, desc = \"Training\"):\n",
    "        outputs = model(input_batch)\n",
    "\n",
    "        loss = criterion(outputs.view(-1,outputs.shape[-1]), target_batch.view(-1))\n",
    "        optimizer.zero_grad()\n",
    "        loss.backward()\n",
    "        optimizer.step()\n",
    "\n",
    "        train_loss += loss.item()\n",
    "        train_accuracy += (torch.sum(outputs.view(-1,outputs.shape[-1]).argmax(dim=1) == target_batch.view(-1))/target_batch.view(-1).shape[0]).item()\n",
    "    avg_train_loss = train_loss / len(train_loader)\n",
    "    avg_train_acc = train_accuracy / len(train_loader)\n",
    "    print(f\"Train Loss: {avg_train_loss:.4f}, Train Accuracy: {avg_train_acc:.4f}\")\n",
    "\n",
    "    model.eval()\n",
    "    with torch.no_grad():\n",
    "        val_loss = 0\n",
    "        val_accuracy = 0\n",
    "        for input_batch, target_batch in tqdm(val_loader, desc = \"Validation\"):\n",
    "          outputs = model(input_batch)\n",
    "\n",
    "          loss = criterion(outputs.view(-1,outputs.shape[-1]), target_batch.view(-1))\n",
    "          val_loss += loss.item()\n",
    "          val_accuracy += (torch.sum(outputs.view(-1,outputs.shape[-1]).argmax(dim=1) == target_batch.view(-1))/target_batch.view(-1).shape[0]).item()\n",
    "    avg_val_loss = val_loss/len(val_loader)\n",
    "    avg_val_acc = val_accuracy / len(val_loader)\n",
    "    print(f\"Validation Loss: {avg_val_loss:.4f}, Validation Accuracy: {avg_val_acc:.4f}\\n\")\n",
    "\n",
    "    history.append((avg_train_loss, avg_train_acc, avg_val_loss, avg_val_acc))"
   ]
  },
  {
   "cell_type": "code",
   "execution_count": 65,
   "metadata": {},
   "outputs": [
    {
     "data": {
      "image/png": "[encoded data removed]",
      "text/plain": [
       "<Figure size 1200x600 with 2 Axes>"
      ]
     },
     "metadata": {},
     "output_type": "display_data"
    }
   ],
   "source": [
    "def plot_metrics():\n",
    "  train_loss, train_acc, val_loss, val_acc = tuple(zip(*history))\n",
    "  epochs = range(1, len(history) + 1)\n",
    "\n",
    "  plt.figure(figsize=(12, 6))\n",
    "  plt.subplot(1,2,1)\n",
    "  plt.plot(epochs, train_acc, marker='o', linestyle='-', label='Train Accuracy')\n",
    "  plt.plot(epochs, val_acc, marker='o', linestyle='-', label='Validation Accuracy')\n",
    "  plt.title('Validation vs Train Accuracy')\n",
    "  plt.legend()\n",
    "\n",
    "  plt.subplot(1,2,2)\n",
    "  plt.plot(epochs, train_loss, marker='o', linestyle='-', label='Train Loss')\n",
    "  plt.plot(epochs, val_loss, marker='o', linestyle='-', label='Validation Loss')\n",
    "  plt.title('Validation vs Train Loss')\n",
    "  plt.legend()\n",
    "  plt.show()\n",
    "plot_metrics() "
   ]
  },
  {
   "cell_type": "code",
   "execution_count": 67,
   "metadata": {},
   "outputs": [
    {
     "name": "stdout",
     "output_type": "stream",
     "text": [
      "Amfibol l. Amfibolit ( af Grek. amfibolos, tvetydig, oviss ), miner., en klass mineral af silikatens ordning, hvilka kristallisera i det monokliniska systemet och till sammansättningen äro bisilikat. Till denna klass höra strålsten, hornblende m. fl. — Orsaken till namnet var den svårighet man fordom hade att skilja detta mineral från det till utseende liknande mineralet augit. P\n"
     ]
    },
    {
     "data": {
      "text/plain": [
       "'Amfibol'"
      ]
     },
     "execution_count": 67,
     "metadata": {},
     "output_type": "execute_result"
    }
   ],
   "source": [
    "print(tokenizer.decode(X_train[example_index], skip_special_tokens=True))\n",
    "tokenizer.decode(X_train[example_index][torch.flatten(torch.nonzero(y_train[example_index]))], skip_special_tokens=True)"
   ]
  },
  {
   "cell_type": "code",
   "execution_count": 69,
   "metadata": {},
   "outputs": [
    {
     "name": "stdout",
     "output_type": "stream",
     "text": [
      "Predicted headword: Dungarpur\n"
     ]
    }
   ],
   "source": [
    "model.eval()\n",
    "input_sentence = \"Dungarpur [dangāpōə], vasallstat i Indien, sydligaste delen af Rajputana. 3,730 kvkm. 100,103 inv. (1901). Hufvudstaden, med samma namn, 6,094 inv., ligger 145 km. n. ö. om Ahmadabad.\"\n",
    "encoded_input = tokenizer(input_sentence, return_tensors=\"pt\", padding = \"max_length\", max_length = 100, truncation = True)['input_ids'].to(device)\n",
    "\n",
    "with torch.no_grad():\n",
    "    output_mask = model(encoded_input).argmax(dim=-1).view(-1).cpu()\n",
    "\n",
    "headword = encoded_input.cpu().view(-1)[torch.flatten(torch.nonzero(output_mask))]\n",
    "print(\"Predicted headword:\", tokenizer.decode(headword, skip_special_tokens=True))"
   ]
  },
  {
   "cell_type": "code",
   "execution_count": null,
   "metadata": {},
   "outputs": [],
   "source": []
  }
 ],
 "metadata": {
  "kernelspec": {
   "display_name": "edap30",
   "language": "python",
   "name": "python3"
  },
  "language_info": {
   "codemirror_mode": {
    "name": "ipython",
    "version": 3
   },
   "file_extension": ".py",
   "mimetype": "text/x-python",
   "name": "python",
   "nbconvert_exporter": "python",
   "pygments_lexer": "ipython3",
   "version": "3.12.3"
  }
 },
 "nbformat": 4,
 "nbformat_minor": 2
}
